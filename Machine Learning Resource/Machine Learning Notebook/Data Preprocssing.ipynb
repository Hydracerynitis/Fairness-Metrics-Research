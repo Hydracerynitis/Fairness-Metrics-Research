{
  "cells": [
    {
      "attachments": {},
      "cell_type": "markdown",
      "metadata": {
        "id": "cfrtzP4R6Biu"
      },
      "source": [
        "# Workbook 6: Data pre-processing\n",
        "\n",
        "In this workbook, we'll practise data pre-processing methods.\n",
        "\n",
        "There are 4 main topics in data pre-processing.\n",
        "\n",
        "1. How to handle noisy data, or features of unequal variance?\n",
        "\n",
        "Some algorithms (i.e. SVM and neural networks) are only well-defined when the values of each feature concentrate to 0 and have equal variance (it is better to make the variance be about 1). We use normalization to eliminate the differences of mean and variance among features.\n",
        "\n",
        "Also, sometimes the features are noisy, which may cause overfitting. (e.g. When fitting decision tree regressor, the tree may overly split some continuous features and is not necessary.)\n",
        "Binning method enables us to resolve this issue.\n",
        "\n",
        "2. How to fill missing values?\n",
        "\n",
        "Sometimes we cannot measure some of the features for a portion of observations, which causes missing values (the absence of values). While machine learning algorithms usually involve linear algebra processes, which do not allow missing values in the matrix. In this section, we learn to fill missing values with a reasonable estimation (guess).\n",
        "\n",
        "3. How to handle redundent dimensions?\n",
        "\n",
        "Some features are correlated (redundent) or useless. We learn how to remove the redundency by PCA method, when the meaning of the features isn't known. (When we know the meaning of the features, removing redundency based on their real-world meaning is a more reliable way.)\n",
        "\n",
        "4. How to address the imbalance of classes?\n",
        "\n",
        "We have learned how to evaluate the performance of a classifier on imbalanced dataset. In this section, we learn to solve the imbalance, or specifically, improve the performance by transferring it to a balanced problem."
      ]
    },
    {
      "attachments": {},
      "cell_type": "markdown",
      "metadata": {
        "id": "NLAQZpxPqpWp"
      },
      "source": [
        "*If you're using Google Colaboratory, it doesn't install `scikit-optimize` package by default and this chunk is the terminal command (started with `!`) to install this package.*\n",
        "\n",
        "*If you're using Jupyter notebook in your own machine, you may not use `!` to escape the terminal command. You should use `pip` command to install packages as normal and do not run this chunk.*"
      ]
    },
    {
      "cell_type": "code",
      "execution_count": 1,
      "metadata": {
        "id": "p4B_Ey-WHEnT"
      },
      "outputs": [
        {
          "name": "stdout",
          "output_type": "stream",
          "text": [
            "Collecting scikit-optimize\n",
            "  Downloading scikit_optimize-0.9.0-py2.py3-none-any.whl (100 kB)\n",
            "     ---------------------------------------- 0.0/100.3 kB ? eta -:--:--\n",
            "     -------------------------------------- 100.3/100.3 kB 6.0 MB/s eta 0:00:00\n",
            "Requirement already satisfied: scikit-learn>=0.20.0 in c:\\users\\home\\desktop\\playgfround\\cs361\\.venv\\lib\\site-packages (from scikit-optimize) (1.2.2)\n",
            "Collecting pyaml>=16.9\n",
            "  Downloading pyaml-21.10.1-py2.py3-none-any.whl (24 kB)\n",
            "Requirement already satisfied: scipy>=0.19.1 in c:\\users\\home\\desktop\\playgfround\\cs361\\.venv\\lib\\site-packages (from scikit-optimize) (1.10.1)\n",
            "Requirement already satisfied: numpy>=1.13.3 in c:\\users\\home\\desktop\\playgfround\\cs361\\.venv\\lib\\site-packages (from scikit-optimize) (1.24.2)\n",
            "Requirement already satisfied: joblib>=0.11 in c:\\users\\home\\desktop\\playgfround\\cs361\\.venv\\lib\\site-packages (from scikit-optimize) (1.2.0)\n",
            "Requirement already satisfied: PyYAML in c:\\users\\home\\desktop\\playgfround\\cs361\\.venv\\lib\\site-packages (from pyaml>=16.9->scikit-optimize) (6.0)\n",
            "Requirement already satisfied: threadpoolctl>=2.0.0 in c:\\users\\home\\desktop\\playgfround\\cs361\\.venv\\lib\\site-packages (from scikit-learn>=0.20.0->scikit-optimize) (3.1.0)\n",
            "Installing collected packages: pyaml, scikit-optimize\n",
            "Successfully installed pyaml-21.10.1 scikit-optimize-0.9.0\n",
            "Note: you may need to restart the kernel to use updated packages.\n"
          ]
        },
        {
          "name": "stderr",
          "output_type": "stream",
          "text": [
            "\n",
            "[notice] A new release of pip is available: 23.0.1 -> 23.1.2\n",
            "[notice] To update, run: python.exe -m pip install --upgrade pip\n"
          ]
        }
      ],
      "source": [
        "%pip install scikit-optimize"
      ]
    },
    {
      "attachments": {},
      "cell_type": "markdown",
      "metadata": {
        "id": "3rfDXr4irOq-"
      },
      "source": [
        "Import the libraries."
      ]
    },
    {
      "cell_type": "code",
      "execution_count": 3,
      "metadata": {
        "id": "KtjKl0Xu59tu"
      },
      "outputs": [],
      "source": [
        "import pandas as pd\n",
        "import numpy as np\n",
        "from sklearn.datasets import make_classification\n",
        "from sklearn.model_selection import train_test_split\n",
        "from sklearn.svm import SVC\n",
        "from skopt import BayesSearchCV\n",
        "from skopt.space import Real\n",
        "from sklearn.metrics import f1_score, confusion_matrix\n",
        "from sklearn.preprocessing import StandardScaler, MinMaxScaler, KBinsDiscretizer\n",
        "from sklearn.tree import DecisionTreeClassifier\n",
        "from imblearn.over_sampling import SMOTE\n",
        "from sklearn.decomposition import PCA\n",
        "import matplotlib.pyplot as plt\n",
        "from sklearn.neighbors import NearestNeighbors\n",
        "from copy import deepcopy\n",
        "from sklearn.base import TransformerMixin\n",
        "from sklearn.pipeline import Pipeline"
      ]
    },
    {
      "attachments": {},
      "cell_type": "markdown",
      "metadata": {
        "id": "FNjVmxQ8eDBu"
      },
      "source": [
        "## 1. Make the dataset\n",
        "\n",
        "Before starting, we arbitrarily make a dirty dataset. The columns do not have specific meanings."
      ]
    },
    {
      "cell_type": "code",
      "execution_count": 3,
      "metadata": {
        "id": "pclER-k4eGl6"
      },
      "outputs": [],
      "source": [
        "m = 20\n",
        "rs = np.random.RandomState(seed=11764370)\n",
        "scales_ = np.power(10, rs.uniform(low=-3, high=3, size=m))\n",
        "x, y = make_classification(n_samples=1000, n_features=m, n_informative=16, n_redundant=2, n_repeated=0, \n",
        "                           n_classes=4, n_clusters_per_class=1, weights=[0.5, 0.3, 0.15, 0.01], \n",
        "                           flip_y=0.05, hypercube=True, shift=None, scale=scales_, shuffle=True, \n",
        "                           random_state=11764370)"
      ]
    },
    {
      "attachments": {},
      "cell_type": "markdown",
      "metadata": {
        "id": "g2FjAFqFzFl4"
      },
      "source": [
        "Use `pandas.DataFrame.describe` function to generate some descriptive statistics.\n",
        "\n",
        "It's easy to find the mean and variance of features vary from each variable."
      ]
    },
    {
      "cell_type": "code",
      "execution_count": 4,
      "metadata": {
        "colab": {
          "base_uri": "https://localhost:8080/",
          "height": 676
        },
        "id": "k-g1aM-zs9uL",
        "outputId": "251c4d70-a15e-4c95-efc5-bcb06a421bb8"
      },
      "outputs": [
        {
          "data": {
            "text/html": [
              "\n",
              "  <div id=\"df-873737a2-1648-481f-9d7b-3e33f91b3a45\">\n",
              "    <div class=\"colab-df-container\">\n",
              "      <div>\n",
              "<style scoped>\n",
              "    .dataframe tbody tr th:only-of-type {\n",
              "        vertical-align: middle;\n",
              "    }\n",
              "\n",
              "    .dataframe tbody tr th {\n",
              "        vertical-align: top;\n",
              "    }\n",
              "\n",
              "    .dataframe thead th {\n",
              "        text-align: right;\n",
              "    }\n",
              "</style>\n",
              "<table border=\"1\" class=\"dataframe\">\n",
              "  <thead>\n",
              "    <tr style=\"text-align: right;\">\n",
              "      <th></th>\n",
              "      <th>count</th>\n",
              "      <th>mean</th>\n",
              "      <th>std</th>\n",
              "      <th>min</th>\n",
              "      <th>5%</th>\n",
              "      <th>50%</th>\n",
              "      <th>95%</th>\n",
              "      <th>max</th>\n",
              "    </tr>\n",
              "  </thead>\n",
              "  <tbody>\n",
              "    <tr>\n",
              "      <th>0</th>\n",
              "      <td>1000.0</td>\n",
              "      <td>-37.728</td>\n",
              "      <td>144.628</td>\n",
              "      <td>-531.034</td>\n",
              "      <td>-270.463</td>\n",
              "      <td>-40.720</td>\n",
              "      <td>216.213</td>\n",
              "      <td>370.744</td>\n",
              "    </tr>\n",
              "    <tr>\n",
              "      <th>1</th>\n",
              "      <td>1000.0</td>\n",
              "      <td>-2.743</td>\n",
              "      <td>36.797</td>\n",
              "      <td>-111.671</td>\n",
              "      <td>-60.688</td>\n",
              "      <td>-3.588</td>\n",
              "      <td>56.806</td>\n",
              "      <td>147.574</td>\n",
              "    </tr>\n",
              "    <tr>\n",
              "      <th>2</th>\n",
              "      <td>1000.0</td>\n",
              "      <td>20.239</td>\n",
              "      <td>23.162</td>\n",
              "      <td>-73.322</td>\n",
              "      <td>-16.574</td>\n",
              "      <td>20.848</td>\n",
              "      <td>57.080</td>\n",
              "      <td>104.327</td>\n",
              "    </tr>\n",
              "    <tr>\n",
              "      <th>3</th>\n",
              "      <td>1000.0</td>\n",
              "      <td>-2.251</td>\n",
              "      <td>8.160</td>\n",
              "      <td>-27.741</td>\n",
              "      <td>-15.010</td>\n",
              "      <td>-2.139</td>\n",
              "      <td>11.669</td>\n",
              "      <td>22.498</td>\n",
              "    </tr>\n",
              "    <tr>\n",
              "      <th>4</th>\n",
              "      <td>1000.0</td>\n",
              "      <td>-0.004</td>\n",
              "      <td>0.012</td>\n",
              "      <td>-0.039</td>\n",
              "      <td>-0.024</td>\n",
              "      <td>-0.005</td>\n",
              "      <td>0.016</td>\n",
              "      <td>0.044</td>\n",
              "    </tr>\n",
              "    <tr>\n",
              "      <th>5</th>\n",
              "      <td>1000.0</td>\n",
              "      <td>-0.049</td>\n",
              "      <td>0.096</td>\n",
              "      <td>-0.344</td>\n",
              "      <td>-0.206</td>\n",
              "      <td>-0.051</td>\n",
              "      <td>0.107</td>\n",
              "      <td>0.315</td>\n",
              "    </tr>\n",
              "    <tr>\n",
              "      <th>6</th>\n",
              "      <td>1000.0</td>\n",
              "      <td>-0.489</td>\n",
              "      <td>2.148</td>\n",
              "      <td>-7.469</td>\n",
              "      <td>-4.101</td>\n",
              "      <td>-0.471</td>\n",
              "      <td>2.865</td>\n",
              "      <td>6.868</td>\n",
              "    </tr>\n",
              "    <tr>\n",
              "      <th>7</th>\n",
              "      <td>1000.0</td>\n",
              "      <td>-0.751</td>\n",
              "      <td>1.206</td>\n",
              "      <td>-4.546</td>\n",
              "      <td>-2.951</td>\n",
              "      <td>-0.640</td>\n",
              "      <td>1.080</td>\n",
              "      <td>2.813</td>\n",
              "    </tr>\n",
              "    <tr>\n",
              "      <th>8</th>\n",
              "      <td>1000.0</td>\n",
              "      <td>238.081</td>\n",
              "      <td>831.623</td>\n",
              "      <td>-2005.223</td>\n",
              "      <td>-1124.098</td>\n",
              "      <td>237.039</td>\n",
              "      <td>1690.967</td>\n",
              "      <td>3169.416</td>\n",
              "    </tr>\n",
              "    <tr>\n",
              "      <th>9</th>\n",
              "      <td>1000.0</td>\n",
              "      <td>0.087</td>\n",
              "      <td>0.133</td>\n",
              "      <td>-0.341</td>\n",
              "      <td>-0.137</td>\n",
              "      <td>0.085</td>\n",
              "      <td>0.301</td>\n",
              "      <td>0.476</td>\n",
              "    </tr>\n",
              "    <tr>\n",
              "      <th>10</th>\n",
              "      <td>1000.0</td>\n",
              "      <td>0.002</td>\n",
              "      <td>0.013</td>\n",
              "      <td>-0.038</td>\n",
              "      <td>-0.019</td>\n",
              "      <td>0.002</td>\n",
              "      <td>0.025</td>\n",
              "      <td>0.065</td>\n",
              "    </tr>\n",
              "    <tr>\n",
              "      <th>11</th>\n",
              "      <td>1000.0</td>\n",
              "      <td>-53.804</td>\n",
              "      <td>427.917</td>\n",
              "      <td>-1159.351</td>\n",
              "      <td>-746.158</td>\n",
              "      <td>-55.433</td>\n",
              "      <td>681.641</td>\n",
              "      <td>1230.751</td>\n",
              "    </tr>\n",
              "    <tr>\n",
              "      <th>12</th>\n",
              "      <td>1000.0</td>\n",
              "      <td>0.672</td>\n",
              "      <td>3.875</td>\n",
              "      <td>-10.509</td>\n",
              "      <td>-5.720</td>\n",
              "      <td>0.754</td>\n",
              "      <td>6.658</td>\n",
              "      <td>15.990</td>\n",
              "    </tr>\n",
              "    <tr>\n",
              "      <th>13</th>\n",
              "      <td>1000.0</td>\n",
              "      <td>0.292</td>\n",
              "      <td>0.907</td>\n",
              "      <td>-2.519</td>\n",
              "      <td>-1.277</td>\n",
              "      <td>0.295</td>\n",
              "      <td>1.760</td>\n",
              "      <td>3.004</td>\n",
              "    </tr>\n",
              "    <tr>\n",
              "      <th>14</th>\n",
              "      <td>1000.0</td>\n",
              "      <td>2.405</td>\n",
              "      <td>9.848</td>\n",
              "      <td>-24.935</td>\n",
              "      <td>-13.095</td>\n",
              "      <td>2.146</td>\n",
              "      <td>19.521</td>\n",
              "      <td>34.708</td>\n",
              "    </tr>\n",
              "    <tr>\n",
              "      <th>15</th>\n",
              "      <td>1000.0</td>\n",
              "      <td>2.086</td>\n",
              "      <td>9.467</td>\n",
              "      <td>-31.292</td>\n",
              "      <td>-13.208</td>\n",
              "      <td>1.926</td>\n",
              "      <td>17.875</td>\n",
              "      <td>33.647</td>\n",
              "    </tr>\n",
              "    <tr>\n",
              "      <th>16</th>\n",
              "      <td>1000.0</td>\n",
              "      <td>-1.637</td>\n",
              "      <td>9.583</td>\n",
              "      <td>-39.563</td>\n",
              "      <td>-17.844</td>\n",
              "      <td>-1.165</td>\n",
              "      <td>13.507</td>\n",
              "      <td>28.309</td>\n",
              "    </tr>\n",
              "    <tr>\n",
              "      <th>17</th>\n",
              "      <td>1000.0</td>\n",
              "      <td>-1.453</td>\n",
              "      <td>4.143</td>\n",
              "      <td>-17.026</td>\n",
              "      <td>-8.301</td>\n",
              "      <td>-1.465</td>\n",
              "      <td>5.243</td>\n",
              "      <td>10.841</td>\n",
              "    </tr>\n",
              "    <tr>\n",
              "      <th>18</th>\n",
              "      <td>1000.0</td>\n",
              "      <td>-0.008</td>\n",
              "      <td>0.047</td>\n",
              "      <td>-0.159</td>\n",
              "      <td>-0.085</td>\n",
              "      <td>-0.008</td>\n",
              "      <td>0.071</td>\n",
              "      <td>0.146</td>\n",
              "    </tr>\n",
              "    <tr>\n",
              "      <th>19</th>\n",
              "      <td>1000.0</td>\n",
              "      <td>0.020</td>\n",
              "      <td>0.524</td>\n",
              "      <td>-1.812</td>\n",
              "      <td>-0.812</td>\n",
              "      <td>-0.004</td>\n",
              "      <td>0.922</td>\n",
              "      <td>1.565</td>\n",
              "    </tr>\n",
              "  </tbody>\n",
              "</table>\n",
              "</div>\n",
              "      <button class=\"colab-df-convert\" onclick=\"convertToInteractive('df-873737a2-1648-481f-9d7b-3e33f91b3a45')\"\n",
              "              title=\"Convert this dataframe to an interactive table.\"\n",
              "              style=\"display:none;\">\n",
              "        \n",
              "  <svg xmlns=\"http://www.w3.org/2000/svg\" height=\"24px\"viewBox=\"0 0 24 24\"\n",
              "       width=\"24px\">\n",
              "    <path d=\"M0 0h24v24H0V0z\" fill=\"none\"/>\n",
              "    <path d=\"M18.56 5.44l.94 2.06.94-2.06 2.06-.94-2.06-.94-.94-2.06-.94 2.06-2.06.94zm-11 1L8.5 8.5l.94-2.06 2.06-.94-2.06-.94L8.5 2.5l-.94 2.06-2.06.94zm10 10l.94 2.06.94-2.06 2.06-.94-2.06-.94-.94-2.06-.94 2.06-2.06.94z\"/><path d=\"M17.41 7.96l-1.37-1.37c-.4-.4-.92-.59-1.43-.59-.52 0-1.04.2-1.43.59L10.3 9.45l-7.72 7.72c-.78.78-.78 2.05 0 2.83L4 21.41c.39.39.9.59 1.41.59.51 0 1.02-.2 1.41-.59l7.78-7.78 2.81-2.81c.8-.78.8-2.07 0-2.86zM5.41 20L4 18.59l7.72-7.72 1.47 1.35L5.41 20z\"/>\n",
              "  </svg>\n",
              "      </button>\n",
              "      \n",
              "  <style>\n",
              "    .colab-df-container {\n",
              "      display:flex;\n",
              "      flex-wrap:wrap;\n",
              "      gap: 12px;\n",
              "    }\n",
              "\n",
              "    .colab-df-convert {\n",
              "      background-color: #E8F0FE;\n",
              "      border: none;\n",
              "      border-radius: 50%;\n",
              "      cursor: pointer;\n",
              "      display: none;\n",
              "      fill: #1967D2;\n",
              "      height: 32px;\n",
              "      padding: 0 0 0 0;\n",
              "      width: 32px;\n",
              "    }\n",
              "\n",
              "    .colab-df-convert:hover {\n",
              "      background-color: #E2EBFA;\n",
              "      box-shadow: 0px 1px 2px rgba(60, 64, 67, 0.3), 0px 1px 3px 1px rgba(60, 64, 67, 0.15);\n",
              "      fill: #174EA6;\n",
              "    }\n",
              "\n",
              "    [theme=dark] .colab-df-convert {\n",
              "      background-color: #3B4455;\n",
              "      fill: #D2E3FC;\n",
              "    }\n",
              "\n",
              "    [theme=dark] .colab-df-convert:hover {\n",
              "      background-color: #434B5C;\n",
              "      box-shadow: 0px 1px 3px 1px rgba(0, 0, 0, 0.15);\n",
              "      filter: drop-shadow(0px 1px 2px rgba(0, 0, 0, 0.3));\n",
              "      fill: #FFFFFF;\n",
              "    }\n",
              "  </style>\n",
              "\n",
              "      <script>\n",
              "        const buttonEl =\n",
              "          document.querySelector('#df-873737a2-1648-481f-9d7b-3e33f91b3a45 button.colab-df-convert');\n",
              "        buttonEl.style.display =\n",
              "          google.colab.kernel.accessAllowed ? 'block' : 'none';\n",
              "\n",
              "        async function convertToInteractive(key) {\n",
              "          const element = document.querySelector('#df-873737a2-1648-481f-9d7b-3e33f91b3a45');\n",
              "          const dataTable =\n",
              "            await google.colab.kernel.invokeFunction('convertToInteractive',\n",
              "                                                     [key], {});\n",
              "          if (!dataTable) return;\n",
              "\n",
              "          const docLinkHtml = 'Like what you see? Visit the ' +\n",
              "            '<a target=\"_blank\" href=https://colab.research.google.com/notebooks/data_table.ipynb>data table notebook</a>'\n",
              "            + ' to learn more about interactive tables.';\n",
              "          element.innerHTML = '';\n",
              "          dataTable['output_type'] = 'display_data';\n",
              "          await google.colab.output.renderOutput(dataTable, element);\n",
              "          const docLink = document.createElement('div');\n",
              "          docLink.innerHTML = docLinkHtml;\n",
              "          element.appendChild(docLink);\n",
              "        }\n",
              "      </script>\n",
              "    </div>\n",
              "  </div>\n",
              "  "
            ],
            "text/plain": [
              "     count     mean      std       min        5%      50%       95%       max\n",
              "0   1000.0  -37.728  144.628  -531.034  -270.463  -40.720   216.213   370.744\n",
              "1   1000.0   -2.743   36.797  -111.671   -60.688   -3.588    56.806   147.574\n",
              "2   1000.0   20.239   23.162   -73.322   -16.574   20.848    57.080   104.327\n",
              "3   1000.0   -2.251    8.160   -27.741   -15.010   -2.139    11.669    22.498\n",
              "4   1000.0   -0.004    0.012    -0.039    -0.024   -0.005     0.016     0.044\n",
              "5   1000.0   -0.049    0.096    -0.344    -0.206   -0.051     0.107     0.315\n",
              "6   1000.0   -0.489    2.148    -7.469    -4.101   -0.471     2.865     6.868\n",
              "7   1000.0   -0.751    1.206    -4.546    -2.951   -0.640     1.080     2.813\n",
              "8   1000.0  238.081  831.623 -2005.223 -1124.098  237.039  1690.967  3169.416\n",
              "9   1000.0    0.087    0.133    -0.341    -0.137    0.085     0.301     0.476\n",
              "10  1000.0    0.002    0.013    -0.038    -0.019    0.002     0.025     0.065\n",
              "11  1000.0  -53.804  427.917 -1159.351  -746.158  -55.433   681.641  1230.751\n",
              "12  1000.0    0.672    3.875   -10.509    -5.720    0.754     6.658    15.990\n",
              "13  1000.0    0.292    0.907    -2.519    -1.277    0.295     1.760     3.004\n",
              "14  1000.0    2.405    9.848   -24.935   -13.095    2.146    19.521    34.708\n",
              "15  1000.0    2.086    9.467   -31.292   -13.208    1.926    17.875    33.647\n",
              "16  1000.0   -1.637    9.583   -39.563   -17.844   -1.165    13.507    28.309\n",
              "17  1000.0   -1.453    4.143   -17.026    -8.301   -1.465     5.243    10.841\n",
              "18  1000.0   -0.008    0.047    -0.159    -0.085   -0.008     0.071     0.146\n",
              "19  1000.0    0.020    0.524    -1.812    -0.812   -0.004     0.922     1.565"
            ]
          },
          "execution_count": 4,
          "metadata": {},
          "output_type": "execute_result"
        }
      ],
      "source": [
        "x_descriptive = pd.DataFrame(x).describe(percentiles=(0.05, 0.95)).T\n",
        "np.round(x_descriptive, 3)"
      ]
    },
    {
      "attachments": {},
      "cell_type": "markdown",
      "metadata": {
        "id": "-TzGY8IeGBEB"
      },
      "source": [
        "Split the dataset into training and testing set."
      ]
    },
    {
      "cell_type": "code",
      "execution_count": 5,
      "metadata": {
        "id": "R9A00BKoGEAm"
      },
      "outputs": [],
      "source": [
        "x_train, x_test, y_train, y_test = train_test_split(x, y, train_size=0.8, random_state=6543454)"
      ]
    },
    {
      "attachments": {},
      "cell_type": "markdown",
      "metadata": {
        "id": "2NR5nlrOHRWn"
      },
      "source": [
        "## 2. Normalization\n",
        "\n",
        "Normalization is a method for eliminating the difference of the mean and variance of different features. For example, the variance of some features are 1000 and some others are 0.01 in this dataset.\n",
        "\n",
        "We have learnt decision tree and ensemble methods based on the decision tree. In the decision tree, splitting rules are constructed on a dicrete basis, and the unequal variance is not likely to be a problem.\n",
        "\n",
        "In contrast, the support vector machine (*we haven't learnt, but it's a good example*) makes classification based on the distance between observations in the data space. If a feature has large variance, the model tends to overestimate its importance when calculating the distance.\n",
        "\n",
        "First, fit a support vector machine classifier (**Model 1**) with Bayes hyper-parameter search."
      ]
    },
    {
      "cell_type": "code",
      "execution_count": 6,
      "metadata": {
        "colab": {
          "base_uri": "https://localhost:8080/",
          "height": 117
        },
        "id": "d3CTm1fRHrcC",
        "outputId": "29a9fff5-8b5e-46ed-e2c1-350e5ea3d7fc"
      },
      "outputs": [
        {
          "data": {
            "text/html": [
              "<style>#sk-container-id-1 {color: black;background-color: white;}#sk-container-id-1 pre{padding: 0;}#sk-container-id-1 div.sk-toggleable {background-color: white;}#sk-container-id-1 label.sk-toggleable__label {cursor: pointer;display: block;width: 100%;margin-bottom: 0;padding: 0.3em;box-sizing: border-box;text-align: center;}#sk-container-id-1 label.sk-toggleable__label-arrow:before {content: \"▸\";float: left;margin-right: 0.25em;color: #696969;}#sk-container-id-1 label.sk-toggleable__label-arrow:hover:before {color: black;}#sk-container-id-1 div.sk-estimator:hover label.sk-toggleable__label-arrow:before {color: black;}#sk-container-id-1 div.sk-toggleable__content {max-height: 0;max-width: 0;overflow: hidden;text-align: left;background-color: #f0f8ff;}#sk-container-id-1 div.sk-toggleable__content pre {margin: 0.2em;color: black;border-radius: 0.25em;background-color: #f0f8ff;}#sk-container-id-1 input.sk-toggleable__control:checked~div.sk-toggleable__content {max-height: 200px;max-width: 100%;overflow: auto;}#sk-container-id-1 input.sk-toggleable__control:checked~label.sk-toggleable__label-arrow:before {content: \"▾\";}#sk-container-id-1 div.sk-estimator input.sk-toggleable__control:checked~label.sk-toggleable__label {background-color: #d4ebff;}#sk-container-id-1 div.sk-label input.sk-toggleable__control:checked~label.sk-toggleable__label {background-color: #d4ebff;}#sk-container-id-1 input.sk-hidden--visually {border: 0;clip: rect(1px 1px 1px 1px);clip: rect(1px, 1px, 1px, 1px);height: 1px;margin: -1px;overflow: hidden;padding: 0;position: absolute;width: 1px;}#sk-container-id-1 div.sk-estimator {font-family: monospace;background-color: #f0f8ff;border: 1px dotted black;border-radius: 0.25em;box-sizing: border-box;margin-bottom: 0.5em;}#sk-container-id-1 div.sk-estimator:hover {background-color: #d4ebff;}#sk-container-id-1 div.sk-parallel-item::after {content: \"\";width: 100%;border-bottom: 1px solid gray;flex-grow: 1;}#sk-container-id-1 div.sk-label:hover label.sk-toggleable__label {background-color: #d4ebff;}#sk-container-id-1 div.sk-serial::before {content: \"\";position: absolute;border-left: 1px solid gray;box-sizing: border-box;top: 0;bottom: 0;left: 50%;z-index: 0;}#sk-container-id-1 div.sk-serial {display: flex;flex-direction: column;align-items: center;background-color: white;padding-right: 0.2em;padding-left: 0.2em;position: relative;}#sk-container-id-1 div.sk-item {position: relative;z-index: 1;}#sk-container-id-1 div.sk-parallel {display: flex;align-items: stretch;justify-content: center;background-color: white;position: relative;}#sk-container-id-1 div.sk-item::before, #sk-container-id-1 div.sk-parallel-item::before {content: \"\";position: absolute;border-left: 1px solid gray;box-sizing: border-box;top: 0;bottom: 0;left: 50%;z-index: -1;}#sk-container-id-1 div.sk-parallel-item {display: flex;flex-direction: column;z-index: 1;position: relative;background-color: white;}#sk-container-id-1 div.sk-parallel-item:first-child::after {align-self: flex-end;width: 50%;}#sk-container-id-1 div.sk-parallel-item:last-child::after {align-self: flex-start;width: 50%;}#sk-container-id-1 div.sk-parallel-item:only-child::after {width: 0;}#sk-container-id-1 div.sk-dashed-wrapped {border: 1px dashed gray;margin: 0 0.4em 0.5em 0.4em;box-sizing: border-box;padding-bottom: 0.4em;background-color: white;}#sk-container-id-1 div.sk-label label {font-family: monospace;font-weight: bold;display: inline-block;line-height: 1.2em;}#sk-container-id-1 div.sk-label-container {text-align: center;}#sk-container-id-1 div.sk-container {/* jupyter's `normalize.less` sets `[hidden] { display: none; }` but bootstrap.min.css set `[hidden] { display: none !important; }` so we also need the `!important` here to be able to override the default hidden behavior on the sphinx rendered scikit-learn.org. See: https://github.com/scikit-learn/scikit-learn/issues/21755 */display: inline-block !important;position: relative;}#sk-container-id-1 div.sk-text-repr-fallback {display: none;}</style><div id=\"sk-container-id-1\" class=\"sk-top-container\"><div class=\"sk-text-repr-fallback\"><pre>BayesSearchCV(cv=5, estimator=SVC(cache_size=4096, max_iter=5000), n_iter=32,\n",
              "              n_jobs=-1, random_state=10459,\n",
              "              search_spaces={&#x27;C&#x27;: Real(low=0.001, high=100, prior=&#x27;log-uniform&#x27;, transform=&#x27;normalize&#x27;),\n",
              "                             &#x27;gamma&#x27;: Real(low=0.01, high=0.5, prior=&#x27;uniform&#x27;, transform=&#x27;normalize&#x27;)})</pre><b>In a Jupyter environment, please rerun this cell to show the HTML representation or trust the notebook. <br />On GitHub, the HTML representation is unable to render, please try loading this page with nbviewer.org.</b></div><div class=\"sk-container\" hidden><div class=\"sk-item sk-dashed-wrapped\"><div class=\"sk-label-container\"><div class=\"sk-label sk-toggleable\"><input class=\"sk-toggleable__control sk-hidden--visually\" id=\"sk-estimator-id-1\" type=\"checkbox\" ><label for=\"sk-estimator-id-1\" class=\"sk-toggleable__label sk-toggleable__label-arrow\">BayesSearchCV</label><div class=\"sk-toggleable__content\"><pre>BayesSearchCV(cv=5, estimator=SVC(cache_size=4096, max_iter=5000), n_iter=32,\n",
              "              n_jobs=-1, random_state=10459,\n",
              "              search_spaces={&#x27;C&#x27;: Real(low=0.001, high=100, prior=&#x27;log-uniform&#x27;, transform=&#x27;normalize&#x27;),\n",
              "                             &#x27;gamma&#x27;: Real(low=0.01, high=0.5, prior=&#x27;uniform&#x27;, transform=&#x27;normalize&#x27;)})</pre></div></div></div><div class=\"sk-parallel\"><div class=\"sk-parallel-item\"><div class=\"sk-item\"><div class=\"sk-label-container\"><div class=\"sk-label sk-toggleable\"><input class=\"sk-toggleable__control sk-hidden--visually\" id=\"sk-estimator-id-2\" type=\"checkbox\" ><label for=\"sk-estimator-id-2\" class=\"sk-toggleable__label sk-toggleable__label-arrow\">estimator: SVC</label><div class=\"sk-toggleable__content\"><pre>SVC(cache_size=4096, max_iter=5000)</pre></div></div></div><div class=\"sk-serial\"><div class=\"sk-item\"><div class=\"sk-estimator sk-toggleable\"><input class=\"sk-toggleable__control sk-hidden--visually\" id=\"sk-estimator-id-3\" type=\"checkbox\" ><label for=\"sk-estimator-id-3\" class=\"sk-toggleable__label sk-toggleable__label-arrow\">SVC</label><div class=\"sk-toggleable__content\"><pre>SVC(cache_size=4096, max_iter=5000)</pre></div></div></div></div></div></div></div></div></div></div>"
            ],
            "text/plain": [
              "BayesSearchCV(cv=5, estimator=SVC(cache_size=4096, max_iter=5000), n_iter=32,\n",
              "              n_jobs=-1, random_state=10459,\n",
              "              search_spaces={'C': Real(low=0.001, high=100, prior='log-uniform', transform='normalize'),\n",
              "                             'gamma': Real(low=0.01, high=0.5, prior='uniform', transform='normalize')})"
            ]
          },
          "execution_count": 6,
          "metadata": {},
          "output_type": "execute_result"
        }
      ],
      "source": [
        "svc_1 = BayesSearchCV(\n",
        "    SVC(cache_size=4096, max_iter=5000),\n",
        "    {\n",
        "      'C': Real(0.001, 100, prior='log-uniform'),\n",
        "      'gamma': Real(0.01, 0.5, prior='uniform'),\n",
        "    },\n",
        "    cv=5, random_state=10459, n_iter=32, n_jobs=-1\n",
        ")\n",
        "svc_1.fit(x_train, y_train)"
      ]
    },
    {
      "attachments": {},
      "cell_type": "markdown",
      "metadata": {
        "id": "x1mEpC-9JEqQ"
      },
      "source": [
        "We evaluate the training and testing F1 score for model 1."
      ]
    },
    {
      "cell_type": "code",
      "execution_count": 7,
      "metadata": {
        "colab": {
          "base_uri": "https://localhost:8080/"
        },
        "id": "0S6xAvhOJCvf",
        "outputId": "b8990e08-89c3-40de-8420-7ad61e767b90"
      },
      "outputs": [
        {
          "name": "stdout",
          "output_type": "stream",
          "text": [
            "Training set F1: 0.3347231473771856\n",
            "Testing set F1: 0.35013201320132015\n"
          ]
        }
      ],
      "source": [
        "y_train_hat = svc_1.predict(x_train)\n",
        "print('Training set F1:', f1_score(y_train, y_train_hat, average='weighted', labels=[0, 1, 2, 3]))\n",
        "y_test_hat = svc_1.predict(x_test)\n",
        "print('Testing set F1:', f1_score(y_test, y_test_hat, average='weighted', labels=[0, 1, 2, 3]))"
      ]
    },
    {
      "attachments": {},
      "cell_type": "markdown",
      "metadata": {
        "id": "KtPep8pDD9gN"
      },
      "source": [
        "Actually SVC doesn't figure out any meaningful rules. It only predicts the major class. See the confusion matrix."
      ]
    },
    {
      "cell_type": "code",
      "execution_count": 8,
      "metadata": {
        "colab": {
          "base_uri": "https://localhost:8080/"
        },
        "id": "ke3HZdz1DQnx",
        "outputId": "604098ae-ad0f-4caf-cfad-aad068104c6f"
      },
      "outputs": [
        {
          "name": "stdout",
          "output_type": "stream",
          "text": [
            "Training CM:\n",
            " [[401   0   0   0]\n",
            " [245   0   0   0]\n",
            " [131   0   0   0]\n",
            " [ 23   0   0   0]]\n",
            "Testing CM:\n",
            " [[103   0   0   0]\n",
            " [ 67   0   0   0]\n",
            " [ 26   0   0   0]\n",
            " [  4   0   0   0]]\n"
          ]
        }
      ],
      "source": [
        "print('Training CM:\\n', confusion_matrix(y_train, y_train_hat))\n",
        "print('Testing CM:\\n', confusion_matrix(y_test, y_test_hat))"
      ]
    },
    {
      "attachments": {},
      "cell_type": "markdown",
      "metadata": {
        "id": "IyKrdL5GEOT8"
      },
      "source": [
        "### 2.1. Z-score normalization\n",
        "\n",
        "One of the pre-processing method to tackle this problem is normalization. Among various kinds of normalization, we first practise the Z-score normalization."
      ]
    },
    {
      "cell_type": "code",
      "execution_count": 9,
      "metadata": {
        "id": "26nAgSXvJ4vY"
      },
      "outputs": [],
      "source": [
        "std_ = StandardScaler()\n",
        "x_train_std = std_.fit_transform(x_train)\n",
        "x_test_std = std_.transform(x_test)"
      ]
    },
    {
      "attachments": {},
      "cell_type": "markdown",
      "metadata": {
        "id": "792jLna2E7Uh"
      },
      "source": [
        "With the normalized dataset, we fit the same SVC model (**model 2**) again and evaluate it."
      ]
    },
    {
      "cell_type": "code",
      "execution_count": 10,
      "metadata": {
        "colab": {
          "base_uri": "https://localhost:8080/",
          "height": 117
        },
        "id": "i7SFEARiFD2t",
        "outputId": "1a7628a0-b0e0-478d-fae4-18b7f500bf4e"
      },
      "outputs": [
        {
          "data": {
            "text/html": [
              "<style>#sk-container-id-2 {color: black;background-color: white;}#sk-container-id-2 pre{padding: 0;}#sk-container-id-2 div.sk-toggleable {background-color: white;}#sk-container-id-2 label.sk-toggleable__label {cursor: pointer;display: block;width: 100%;margin-bottom: 0;padding: 0.3em;box-sizing: border-box;text-align: center;}#sk-container-id-2 label.sk-toggleable__label-arrow:before {content: \"▸\";float: left;margin-right: 0.25em;color: #696969;}#sk-container-id-2 label.sk-toggleable__label-arrow:hover:before {color: black;}#sk-container-id-2 div.sk-estimator:hover label.sk-toggleable__label-arrow:before {color: black;}#sk-container-id-2 div.sk-toggleable__content {max-height: 0;max-width: 0;overflow: hidden;text-align: left;background-color: #f0f8ff;}#sk-container-id-2 div.sk-toggleable__content pre {margin: 0.2em;color: black;border-radius: 0.25em;background-color: #f0f8ff;}#sk-container-id-2 input.sk-toggleable__control:checked~div.sk-toggleable__content {max-height: 200px;max-width: 100%;overflow: auto;}#sk-container-id-2 input.sk-toggleable__control:checked~label.sk-toggleable__label-arrow:before {content: \"▾\";}#sk-container-id-2 div.sk-estimator input.sk-toggleable__control:checked~label.sk-toggleable__label {background-color: #d4ebff;}#sk-container-id-2 div.sk-label input.sk-toggleable__control:checked~label.sk-toggleable__label {background-color: #d4ebff;}#sk-container-id-2 input.sk-hidden--visually {border: 0;clip: rect(1px 1px 1px 1px);clip: rect(1px, 1px, 1px, 1px);height: 1px;margin: -1px;overflow: hidden;padding: 0;position: absolute;width: 1px;}#sk-container-id-2 div.sk-estimator {font-family: monospace;background-color: #f0f8ff;border: 1px dotted black;border-radius: 0.25em;box-sizing: border-box;margin-bottom: 0.5em;}#sk-container-id-2 div.sk-estimator:hover {background-color: #d4ebff;}#sk-container-id-2 div.sk-parallel-item::after {content: \"\";width: 100%;border-bottom: 1px solid gray;flex-grow: 1;}#sk-container-id-2 div.sk-label:hover label.sk-toggleable__label {background-color: #d4ebff;}#sk-container-id-2 div.sk-serial::before {content: \"\";position: absolute;border-left: 1px solid gray;box-sizing: border-box;top: 0;bottom: 0;left: 50%;z-index: 0;}#sk-container-id-2 div.sk-serial {display: flex;flex-direction: column;align-items: center;background-color: white;padding-right: 0.2em;padding-left: 0.2em;position: relative;}#sk-container-id-2 div.sk-item {position: relative;z-index: 1;}#sk-container-id-2 div.sk-parallel {display: flex;align-items: stretch;justify-content: center;background-color: white;position: relative;}#sk-container-id-2 div.sk-item::before, #sk-container-id-2 div.sk-parallel-item::before {content: \"\";position: absolute;border-left: 1px solid gray;box-sizing: border-box;top: 0;bottom: 0;left: 50%;z-index: -1;}#sk-container-id-2 div.sk-parallel-item {display: flex;flex-direction: column;z-index: 1;position: relative;background-color: white;}#sk-container-id-2 div.sk-parallel-item:first-child::after {align-self: flex-end;width: 50%;}#sk-container-id-2 div.sk-parallel-item:last-child::after {align-self: flex-start;width: 50%;}#sk-container-id-2 div.sk-parallel-item:only-child::after {width: 0;}#sk-container-id-2 div.sk-dashed-wrapped {border: 1px dashed gray;margin: 0 0.4em 0.5em 0.4em;box-sizing: border-box;padding-bottom: 0.4em;background-color: white;}#sk-container-id-2 div.sk-label label {font-family: monospace;font-weight: bold;display: inline-block;line-height: 1.2em;}#sk-container-id-2 div.sk-label-container {text-align: center;}#sk-container-id-2 div.sk-container {/* jupyter's `normalize.less` sets `[hidden] { display: none; }` but bootstrap.min.css set `[hidden] { display: none !important; }` so we also need the `!important` here to be able to override the default hidden behavior on the sphinx rendered scikit-learn.org. See: https://github.com/scikit-learn/scikit-learn/issues/21755 */display: inline-block !important;position: relative;}#sk-container-id-2 div.sk-text-repr-fallback {display: none;}</style><div id=\"sk-container-id-2\" class=\"sk-top-container\"><div class=\"sk-text-repr-fallback\"><pre>BayesSearchCV(cv=5, estimator=SVC(cache_size=4096, max_iter=5000), n_iter=32,\n",
              "              n_jobs=-1, random_state=10459,\n",
              "              search_spaces={&#x27;C&#x27;: Real(low=0.001, high=100, prior=&#x27;log-uniform&#x27;, transform=&#x27;normalize&#x27;),\n",
              "                             &#x27;gamma&#x27;: Real(low=0.01, high=0.5, prior=&#x27;uniform&#x27;, transform=&#x27;normalize&#x27;)})</pre><b>In a Jupyter environment, please rerun this cell to show the HTML representation or trust the notebook. <br />On GitHub, the HTML representation is unable to render, please try loading this page with nbviewer.org.</b></div><div class=\"sk-container\" hidden><div class=\"sk-item sk-dashed-wrapped\"><div class=\"sk-label-container\"><div class=\"sk-label sk-toggleable\"><input class=\"sk-toggleable__control sk-hidden--visually\" id=\"sk-estimator-id-4\" type=\"checkbox\" ><label for=\"sk-estimator-id-4\" class=\"sk-toggleable__label sk-toggleable__label-arrow\">BayesSearchCV</label><div class=\"sk-toggleable__content\"><pre>BayesSearchCV(cv=5, estimator=SVC(cache_size=4096, max_iter=5000), n_iter=32,\n",
              "              n_jobs=-1, random_state=10459,\n",
              "              search_spaces={&#x27;C&#x27;: Real(low=0.001, high=100, prior=&#x27;log-uniform&#x27;, transform=&#x27;normalize&#x27;),\n",
              "                             &#x27;gamma&#x27;: Real(low=0.01, high=0.5, prior=&#x27;uniform&#x27;, transform=&#x27;normalize&#x27;)})</pre></div></div></div><div class=\"sk-parallel\"><div class=\"sk-parallel-item\"><div class=\"sk-item\"><div class=\"sk-label-container\"><div class=\"sk-label sk-toggleable\"><input class=\"sk-toggleable__control sk-hidden--visually\" id=\"sk-estimator-id-5\" type=\"checkbox\" ><label for=\"sk-estimator-id-5\" class=\"sk-toggleable__label sk-toggleable__label-arrow\">estimator: SVC</label><div class=\"sk-toggleable__content\"><pre>SVC(cache_size=4096, max_iter=5000)</pre></div></div></div><div class=\"sk-serial\"><div class=\"sk-item\"><div class=\"sk-estimator sk-toggleable\"><input class=\"sk-toggleable__control sk-hidden--visually\" id=\"sk-estimator-id-6\" type=\"checkbox\" ><label for=\"sk-estimator-id-6\" class=\"sk-toggleable__label sk-toggleable__label-arrow\">SVC</label><div class=\"sk-toggleable__content\"><pre>SVC(cache_size=4096, max_iter=5000)</pre></div></div></div></div></div></div></div></div></div></div>"
            ],
            "text/plain": [
              "BayesSearchCV(cv=5, estimator=SVC(cache_size=4096, max_iter=5000), n_iter=32,\n",
              "              n_jobs=-1, random_state=10459,\n",
              "              search_spaces={'C': Real(low=0.001, high=100, prior='log-uniform', transform='normalize'),\n",
              "                             'gamma': Real(low=0.01, high=0.5, prior='uniform', transform='normalize')})"
            ]
          },
          "execution_count": 10,
          "metadata": {},
          "output_type": "execute_result"
        }
      ],
      "source": [
        "svc_2 = BayesSearchCV(\n",
        "    SVC(cache_size=4096, max_iter=5000),\n",
        "    {\n",
        "      'C': Real(0.001, 100, prior='log-uniform'),\n",
        "      'gamma': Real(0.01, 0.5, prior='uniform'),\n",
        "    },\n",
        "    cv=5, random_state=10459, n_iter=32, n_jobs=-1\n",
        ")\n",
        "svc_2.fit(x_train_std, y_train)"
      ]
    },
    {
      "attachments": {},
      "cell_type": "markdown",
      "metadata": {
        "id": "ZG-6GX7IFkhe"
      },
      "source": [
        "We evaluate the training and testing F1 score for model 2."
      ]
    },
    {
      "cell_type": "code",
      "execution_count": 11,
      "metadata": {
        "colab": {
          "base_uri": "https://localhost:8080/"
        },
        "id": "H9SIkBbyFlkz",
        "outputId": "2ce74431-2d9a-4e4e-f598-a98adc2660f2"
      },
      "outputs": [
        {
          "name": "stdout",
          "output_type": "stream",
          "text": [
            "Training set F1: 0.9837094826515118\n",
            "Testing set F1: 0.9383942225998303\n",
            "Training CM:\n",
            " [[397   3   1   0]\n",
            " [  3 241   1   0]\n",
            " [  3   0 128   0]\n",
            " [  2   0   0  21]]\n",
            "Testing CM:\n",
            " [[101   2   0   0]\n",
            " [  4  63   0   0]\n",
            " [  4   0  22   0]\n",
            " [  2   0   0   2]]\n"
          ]
        }
      ],
      "source": [
        "y_train_hat = svc_2.predict(x_train_std)\n",
        "print('Training set F1:', f1_score(y_train, y_train_hat, average='weighted', labels=[0, 1, 2, 3]))\n",
        "y_test_hat = svc_2.predict(x_test_std)\n",
        "print('Testing set F1:', f1_score(y_test, y_test_hat, average='weighted', labels=[0, 1, 2, 3]))\n",
        "print('Training CM:\\n', confusion_matrix(y_train, y_train_hat))\n",
        "print('Testing CM:\\n', confusion_matrix(y_test, y_test_hat))"
      ]
    },
    {
      "attachments": {},
      "cell_type": "markdown",
      "metadata": {
        "id": "qp_D3zOeFvEB"
      },
      "source": [
        "As seen from the result, Z-score normalization leads to a huge improvement."
      ]
    },
    {
      "attachments": {},
      "cell_type": "markdown",
      "metadata": {
        "id": "JvdqzRcnF_-u"
      },
      "source": [
        "### 2.2. Min-Max normalization\n",
        "\n",
        "Besides Z-score normalization, we have also learnt min-max normalization, which performs a linear transformation for each features to 0-1 scale."
      ]
    },
    {
      "cell_type": "code",
      "execution_count": 12,
      "metadata": {
        "id": "Bq65jiuaGVW6"
      },
      "outputs": [],
      "source": [
        "minmax = MinMaxScaler()\n",
        "x_train_zip = minmax.fit_transform(x_train)\n",
        "x_test_zip = minmax.transform(x_test)"
      ]
    },
    {
      "attachments": {},
      "cell_type": "markdown",
      "metadata": {
        "id": "pu0PbXNfGgt0"
      },
      "source": [
        "With the normalized dataset, we fit the same SVC model (**model 3**) again and evaluate it."
      ]
    },
    {
      "cell_type": "code",
      "execution_count": 13,
      "metadata": {
        "colab": {
          "base_uri": "https://localhost:8080/",
          "height": 117
        },
        "id": "rcJ_lANJGjqK",
        "outputId": "cb06d92c-bbec-472c-942b-978eb107352c"
      },
      "outputs": [
        {
          "data": {
            "text/html": [
              "<style>#sk-container-id-3 {color: black;background-color: white;}#sk-container-id-3 pre{padding: 0;}#sk-container-id-3 div.sk-toggleable {background-color: white;}#sk-container-id-3 label.sk-toggleable__label {cursor: pointer;display: block;width: 100%;margin-bottom: 0;padding: 0.3em;box-sizing: border-box;text-align: center;}#sk-container-id-3 label.sk-toggleable__label-arrow:before {content: \"▸\";float: left;margin-right: 0.25em;color: #696969;}#sk-container-id-3 label.sk-toggleable__label-arrow:hover:before {color: black;}#sk-container-id-3 div.sk-estimator:hover label.sk-toggleable__label-arrow:before {color: black;}#sk-container-id-3 div.sk-toggleable__content {max-height: 0;max-width: 0;overflow: hidden;text-align: left;background-color: #f0f8ff;}#sk-container-id-3 div.sk-toggleable__content pre {margin: 0.2em;color: black;border-radius: 0.25em;background-color: #f0f8ff;}#sk-container-id-3 input.sk-toggleable__control:checked~div.sk-toggleable__content {max-height: 200px;max-width: 100%;overflow: auto;}#sk-container-id-3 input.sk-toggleable__control:checked~label.sk-toggleable__label-arrow:before {content: \"▾\";}#sk-container-id-3 div.sk-estimator input.sk-toggleable__control:checked~label.sk-toggleable__label {background-color: #d4ebff;}#sk-container-id-3 div.sk-label input.sk-toggleable__control:checked~label.sk-toggleable__label {background-color: #d4ebff;}#sk-container-id-3 input.sk-hidden--visually {border: 0;clip: rect(1px 1px 1px 1px);clip: rect(1px, 1px, 1px, 1px);height: 1px;margin: -1px;overflow: hidden;padding: 0;position: absolute;width: 1px;}#sk-container-id-3 div.sk-estimator {font-family: monospace;background-color: #f0f8ff;border: 1px dotted black;border-radius: 0.25em;box-sizing: border-box;margin-bottom: 0.5em;}#sk-container-id-3 div.sk-estimator:hover {background-color: #d4ebff;}#sk-container-id-3 div.sk-parallel-item::after {content: \"\";width: 100%;border-bottom: 1px solid gray;flex-grow: 1;}#sk-container-id-3 div.sk-label:hover label.sk-toggleable__label {background-color: #d4ebff;}#sk-container-id-3 div.sk-serial::before {content: \"\";position: absolute;border-left: 1px solid gray;box-sizing: border-box;top: 0;bottom: 0;left: 50%;z-index: 0;}#sk-container-id-3 div.sk-serial {display: flex;flex-direction: column;align-items: center;background-color: white;padding-right: 0.2em;padding-left: 0.2em;position: relative;}#sk-container-id-3 div.sk-item {position: relative;z-index: 1;}#sk-container-id-3 div.sk-parallel {display: flex;align-items: stretch;justify-content: center;background-color: white;position: relative;}#sk-container-id-3 div.sk-item::before, #sk-container-id-3 div.sk-parallel-item::before {content: \"\";position: absolute;border-left: 1px solid gray;box-sizing: border-box;top: 0;bottom: 0;left: 50%;z-index: -1;}#sk-container-id-3 div.sk-parallel-item {display: flex;flex-direction: column;z-index: 1;position: relative;background-color: white;}#sk-container-id-3 div.sk-parallel-item:first-child::after {align-self: flex-end;width: 50%;}#sk-container-id-3 div.sk-parallel-item:last-child::after {align-self: flex-start;width: 50%;}#sk-container-id-3 div.sk-parallel-item:only-child::after {width: 0;}#sk-container-id-3 div.sk-dashed-wrapped {border: 1px dashed gray;margin: 0 0.4em 0.5em 0.4em;box-sizing: border-box;padding-bottom: 0.4em;background-color: white;}#sk-container-id-3 div.sk-label label {font-family: monospace;font-weight: bold;display: inline-block;line-height: 1.2em;}#sk-container-id-3 div.sk-label-container {text-align: center;}#sk-container-id-3 div.sk-container {/* jupyter's `normalize.less` sets `[hidden] { display: none; }` but bootstrap.min.css set `[hidden] { display: none !important; }` so we also need the `!important` here to be able to override the default hidden behavior on the sphinx rendered scikit-learn.org. See: https://github.com/scikit-learn/scikit-learn/issues/21755 */display: inline-block !important;position: relative;}#sk-container-id-3 div.sk-text-repr-fallback {display: none;}</style><div id=\"sk-container-id-3\" class=\"sk-top-container\"><div class=\"sk-text-repr-fallback\"><pre>BayesSearchCV(cv=5, estimator=SVC(cache_size=4096, max_iter=5000), n_iter=32,\n",
              "              n_jobs=-1, random_state=10459,\n",
              "              search_spaces={&#x27;C&#x27;: Real(low=0.001, high=100, prior=&#x27;log-uniform&#x27;, transform=&#x27;normalize&#x27;),\n",
              "                             &#x27;gamma&#x27;: Real(low=0.01, high=0.5, prior=&#x27;uniform&#x27;, transform=&#x27;normalize&#x27;)})</pre><b>In a Jupyter environment, please rerun this cell to show the HTML representation or trust the notebook. <br />On GitHub, the HTML representation is unable to render, please try loading this page with nbviewer.org.</b></div><div class=\"sk-container\" hidden><div class=\"sk-item sk-dashed-wrapped\"><div class=\"sk-label-container\"><div class=\"sk-label sk-toggleable\"><input class=\"sk-toggleable__control sk-hidden--visually\" id=\"sk-estimator-id-7\" type=\"checkbox\" ><label for=\"sk-estimator-id-7\" class=\"sk-toggleable__label sk-toggleable__label-arrow\">BayesSearchCV</label><div class=\"sk-toggleable__content\"><pre>BayesSearchCV(cv=5, estimator=SVC(cache_size=4096, max_iter=5000), n_iter=32,\n",
              "              n_jobs=-1, random_state=10459,\n",
              "              search_spaces={&#x27;C&#x27;: Real(low=0.001, high=100, prior=&#x27;log-uniform&#x27;, transform=&#x27;normalize&#x27;),\n",
              "                             &#x27;gamma&#x27;: Real(low=0.01, high=0.5, prior=&#x27;uniform&#x27;, transform=&#x27;normalize&#x27;)})</pre></div></div></div><div class=\"sk-parallel\"><div class=\"sk-parallel-item\"><div class=\"sk-item\"><div class=\"sk-label-container\"><div class=\"sk-label sk-toggleable\"><input class=\"sk-toggleable__control sk-hidden--visually\" id=\"sk-estimator-id-8\" type=\"checkbox\" ><label for=\"sk-estimator-id-8\" class=\"sk-toggleable__label sk-toggleable__label-arrow\">estimator: SVC</label><div class=\"sk-toggleable__content\"><pre>SVC(cache_size=4096, max_iter=5000)</pre></div></div></div><div class=\"sk-serial\"><div class=\"sk-item\"><div class=\"sk-estimator sk-toggleable\"><input class=\"sk-toggleable__control sk-hidden--visually\" id=\"sk-estimator-id-9\" type=\"checkbox\" ><label for=\"sk-estimator-id-9\" class=\"sk-toggleable__label sk-toggleable__label-arrow\">SVC</label><div class=\"sk-toggleable__content\"><pre>SVC(cache_size=4096, max_iter=5000)</pre></div></div></div></div></div></div></div></div></div></div>"
            ],
            "text/plain": [
              "BayesSearchCV(cv=5, estimator=SVC(cache_size=4096, max_iter=5000), n_iter=32,\n",
              "              n_jobs=-1, random_state=10459,\n",
              "              search_spaces={'C': Real(low=0.001, high=100, prior='log-uniform', transform='normalize'),\n",
              "                             'gamma': Real(low=0.01, high=0.5, prior='uniform', transform='normalize')})"
            ]
          },
          "execution_count": 13,
          "metadata": {},
          "output_type": "execute_result"
        }
      ],
      "source": [
        "svc_3 = BayesSearchCV(\n",
        "    SVC(cache_size=4096, max_iter=5000),\n",
        "    {\n",
        "      'C': Real(0.001, 100, prior='log-uniform'),\n",
        "      'gamma': Real(0.01, 0.5, prior='uniform'),\n",
        "    },\n",
        "    cv=5, random_state=10459, n_iter=32, n_jobs=-1\n",
        ")\n",
        "svc_3.fit(x_train_zip, y_train)"
      ]
    },
    {
      "attachments": {},
      "cell_type": "markdown",
      "metadata": {
        "id": "Q_97qYbUGpNV"
      },
      "source": [
        "We evaluate the training and testing F1 score for model 3."
      ]
    },
    {
      "cell_type": "code",
      "execution_count": 14,
      "metadata": {
        "colab": {
          "base_uri": "https://localhost:8080/"
        },
        "id": "L8ZtesW8Gqhm",
        "outputId": "e89b5bc6-3b94-41d1-cc48-5e39c06e9dbc"
      },
      "outputs": [
        {
          "name": "stdout",
          "output_type": "stream",
          "text": [
            "Training set F1: 0.9607441667315981\n",
            "Testing set F1: 0.928475675067059\n",
            "Training CM:\n",
            " [[393   5   3   0]\n",
            " [  6 238   1   0]\n",
            " [  9   1 121   0]\n",
            " [  4   0   2  17]]\n",
            "Testing CM:\n",
            " [[100   2   1   0]\n",
            " [  5  62   0   0]\n",
            " [  4   0  22   0]\n",
            " [  2   0   0   2]]\n"
          ]
        }
      ],
      "source": [
        "y_train_hat = svc_3.predict(x_train_zip)\n",
        "print('Training set F1:', f1_score(y_train, y_train_hat, average='weighted', labels=[0, 1, 2, 3]))\n",
        "y_test_hat = svc_3.predict(x_test_zip)\n",
        "print('Testing set F1:', f1_score(y_test, y_test_hat, average='weighted', labels=[0, 1, 2, 3]))\n",
        "print('Training CM:\\n', confusion_matrix(y_train, y_train_hat))\n",
        "print('Testing CM:\\n', confusion_matrix(y_test, y_test_hat))"
      ]
    },
    {
      "attachments": {},
      "cell_type": "markdown",
      "metadata": {
        "id": "r6t2CGXdG1et"
      },
      "source": [
        "It reaches quite similar result as Z-score normalization. However, we should notice this method is not robust, because if outliers (extreme values) exist in some features, the normal values will be zipped into a small interval.\n",
        "\n",
        "E.g. The normal range is (0, 100) and there is a extreme value 10,000. The normal range will be zipped into (0, 0.01) after min-max normalization, while the other 99% length in this dimension is wasted.\n",
        "\n",
        "As an improvement, we use `RobustScaler` and assign the quantile manually, and this issue can be resolved. [Documentation](https://scikit-learn.org/stable/modules/generated/sklearn.preprocessing.RobustScaler.html)"
      ]
    },
    {
      "attachments": {},
      "cell_type": "markdown",
      "metadata": {
        "id": "GgMl73JBH7qO"
      },
      "source": [
        "## 3. Binning\n",
        "\n",
        "Decision tree can be a good example to present the benefit of binning. It will not affected by unequal mean and variance, because it consider each feature as a dicrete feature. However, the issue of noisy data has larger effect on the decision tree than other models.\n",
        "\n",
        "First, we fit a decision tree (**model 4**) with the raw dataset. Get the depth of the unpruned tree."
      ]
    },
    {
      "cell_type": "code",
      "execution_count": 15,
      "metadata": {
        "colab": {
          "base_uri": "https://localhost:8080/"
        },
        "id": "nMkmpzM1WtFS",
        "outputId": "0e1bdcfd-f961-4e86-f638-c9aa2e95a9ff"
      },
      "outputs": [
        {
          "data": {
            "text/plain": [
              "17"
            ]
          },
          "execution_count": 15,
          "metadata": {},
          "output_type": "execute_result"
        }
      ],
      "source": [
        "dt = DecisionTreeClassifier(random_state=29458)\n",
        "dt.fit(x_train, y_train)\n",
        "dt.get_depth()"
      ]
    },
    {
      "attachments": {},
      "cell_type": "markdown",
      "metadata": {
        "id": "zwa3Yc5dW0YN"
      },
      "source": [
        "Tune hyper-parameters."
      ]
    },
    {
      "cell_type": "code",
      "execution_count": 16,
      "metadata": {
        "colab": {
          "base_uri": "https://localhost:8080/",
          "height": 117
        },
        "id": "e78pVBK1IKIO",
        "outputId": "584b33c0-dbd7-437a-f34c-9f743fdd3d31"
      },
      "outputs": [
        {
          "data": {
            "text/html": [
              "<style>#sk-container-id-4 {color: black;background-color: white;}#sk-container-id-4 pre{padding: 0;}#sk-container-id-4 div.sk-toggleable {background-color: white;}#sk-container-id-4 label.sk-toggleable__label {cursor: pointer;display: block;width: 100%;margin-bottom: 0;padding: 0.3em;box-sizing: border-box;text-align: center;}#sk-container-id-4 label.sk-toggleable__label-arrow:before {content: \"▸\";float: left;margin-right: 0.25em;color: #696969;}#sk-container-id-4 label.sk-toggleable__label-arrow:hover:before {color: black;}#sk-container-id-4 div.sk-estimator:hover label.sk-toggleable__label-arrow:before {color: black;}#sk-container-id-4 div.sk-toggleable__content {max-height: 0;max-width: 0;overflow: hidden;text-align: left;background-color: #f0f8ff;}#sk-container-id-4 div.sk-toggleable__content pre {margin: 0.2em;color: black;border-radius: 0.25em;background-color: #f0f8ff;}#sk-container-id-4 input.sk-toggleable__control:checked~div.sk-toggleable__content {max-height: 200px;max-width: 100%;overflow: auto;}#sk-container-id-4 input.sk-toggleable__control:checked~label.sk-toggleable__label-arrow:before {content: \"▾\";}#sk-container-id-4 div.sk-estimator input.sk-toggleable__control:checked~label.sk-toggleable__label {background-color: #d4ebff;}#sk-container-id-4 div.sk-label input.sk-toggleable__control:checked~label.sk-toggleable__label {background-color: #d4ebff;}#sk-container-id-4 input.sk-hidden--visually {border: 0;clip: rect(1px 1px 1px 1px);clip: rect(1px, 1px, 1px, 1px);height: 1px;margin: -1px;overflow: hidden;padding: 0;position: absolute;width: 1px;}#sk-container-id-4 div.sk-estimator {font-family: monospace;background-color: #f0f8ff;border: 1px dotted black;border-radius: 0.25em;box-sizing: border-box;margin-bottom: 0.5em;}#sk-container-id-4 div.sk-estimator:hover {background-color: #d4ebff;}#sk-container-id-4 div.sk-parallel-item::after {content: \"\";width: 100%;border-bottom: 1px solid gray;flex-grow: 1;}#sk-container-id-4 div.sk-label:hover label.sk-toggleable__label {background-color: #d4ebff;}#sk-container-id-4 div.sk-serial::before {content: \"\";position: absolute;border-left: 1px solid gray;box-sizing: border-box;top: 0;bottom: 0;left: 50%;z-index: 0;}#sk-container-id-4 div.sk-serial {display: flex;flex-direction: column;align-items: center;background-color: white;padding-right: 0.2em;padding-left: 0.2em;position: relative;}#sk-container-id-4 div.sk-item {position: relative;z-index: 1;}#sk-container-id-4 div.sk-parallel {display: flex;align-items: stretch;justify-content: center;background-color: white;position: relative;}#sk-container-id-4 div.sk-item::before, #sk-container-id-4 div.sk-parallel-item::before {content: \"\";position: absolute;border-left: 1px solid gray;box-sizing: border-box;top: 0;bottom: 0;left: 50%;z-index: -1;}#sk-container-id-4 div.sk-parallel-item {display: flex;flex-direction: column;z-index: 1;position: relative;background-color: white;}#sk-container-id-4 div.sk-parallel-item:first-child::after {align-self: flex-end;width: 50%;}#sk-container-id-4 div.sk-parallel-item:last-child::after {align-self: flex-start;width: 50%;}#sk-container-id-4 div.sk-parallel-item:only-child::after {width: 0;}#sk-container-id-4 div.sk-dashed-wrapped {border: 1px dashed gray;margin: 0 0.4em 0.5em 0.4em;box-sizing: border-box;padding-bottom: 0.4em;background-color: white;}#sk-container-id-4 div.sk-label label {font-family: monospace;font-weight: bold;display: inline-block;line-height: 1.2em;}#sk-container-id-4 div.sk-label-container {text-align: center;}#sk-container-id-4 div.sk-container {/* jupyter's `normalize.less` sets `[hidden] { display: none; }` but bootstrap.min.css set `[hidden] { display: none !important; }` so we also need the `!important` here to be able to override the default hidden behavior on the sphinx rendered scikit-learn.org. See: https://github.com/scikit-learn/scikit-learn/issues/21755 */display: inline-block !important;position: relative;}#sk-container-id-4 div.sk-text-repr-fallback {display: none;}</style><div id=\"sk-container-id-4\" class=\"sk-top-container\"><div class=\"sk-text-repr-fallback\"><pre>BayesSearchCV(cv=5, estimator=DecisionTreeClassifier(random_state=29458),\n",
              "              n_iter=16, n_jobs=-1, random_state=10459,\n",
              "              search_spaces={&#x27;max_depth&#x27;: (3, 17)})</pre><b>In a Jupyter environment, please rerun this cell to show the HTML representation or trust the notebook. <br />On GitHub, the HTML representation is unable to render, please try loading this page with nbviewer.org.</b></div><div class=\"sk-container\" hidden><div class=\"sk-item sk-dashed-wrapped\"><div class=\"sk-label-container\"><div class=\"sk-label sk-toggleable\"><input class=\"sk-toggleable__control sk-hidden--visually\" id=\"sk-estimator-id-10\" type=\"checkbox\" ><label for=\"sk-estimator-id-10\" class=\"sk-toggleable__label sk-toggleable__label-arrow\">BayesSearchCV</label><div class=\"sk-toggleable__content\"><pre>BayesSearchCV(cv=5, estimator=DecisionTreeClassifier(random_state=29458),\n",
              "              n_iter=16, n_jobs=-1, random_state=10459,\n",
              "              search_spaces={&#x27;max_depth&#x27;: (3, 17)})</pre></div></div></div><div class=\"sk-parallel\"><div class=\"sk-parallel-item\"><div class=\"sk-item\"><div class=\"sk-label-container\"><div class=\"sk-label sk-toggleable\"><input class=\"sk-toggleable__control sk-hidden--visually\" id=\"sk-estimator-id-11\" type=\"checkbox\" ><label for=\"sk-estimator-id-11\" class=\"sk-toggleable__label sk-toggleable__label-arrow\">estimator: DecisionTreeClassifier</label><div class=\"sk-toggleable__content\"><pre>DecisionTreeClassifier(random_state=29458)</pre></div></div></div><div class=\"sk-serial\"><div class=\"sk-item\"><div class=\"sk-estimator sk-toggleable\"><input class=\"sk-toggleable__control sk-hidden--visually\" id=\"sk-estimator-id-12\" type=\"checkbox\" ><label for=\"sk-estimator-id-12\" class=\"sk-toggleable__label sk-toggleable__label-arrow\">DecisionTreeClassifier</label><div class=\"sk-toggleable__content\"><pre>DecisionTreeClassifier(random_state=29458)</pre></div></div></div></div></div></div></div></div></div></div>"
            ],
            "text/plain": [
              "BayesSearchCV(cv=5, estimator=DecisionTreeClassifier(random_state=29458),\n",
              "              n_iter=16, n_jobs=-1, random_state=10459,\n",
              "              search_spaces={'max_depth': (3, 17)})"
            ]
          },
          "execution_count": 16,
          "metadata": {},
          "output_type": "execute_result"
        }
      ],
      "source": [
        "dt_auto_depth = BayesSearchCV(\n",
        "    DecisionTreeClassifier(random_state=29458),\n",
        "    {'max_depth': (3, 17)},\n",
        "    cv=5, random_state=10459, n_iter=16, n_jobs=-1\n",
        ")\n",
        "dt_auto_depth.fit(x_train, y_train)"
      ]
    },
    {
      "attachments": {},
      "cell_type": "markdown",
      "metadata": {
        "id": "DZS91OOyI00-"
      },
      "source": [
        "We evaluate the training and testing F1 score for model 4."
      ]
    },
    {
      "cell_type": "code",
      "execution_count": 17,
      "metadata": {
        "colab": {
          "base_uri": "https://localhost:8080/"
        },
        "id": "yf_3Bz_KIy-A",
        "outputId": "e9fd9a16-abb2-427b-8f7d-a994f9f0004b"
      },
      "outputs": [
        {
          "name": "stdout",
          "output_type": "stream",
          "text": [
            "Training set F1: 0.8987467269764289\n",
            "Testing set F1: 0.7673339977540707\n",
            "Training CM:\n",
            " [[383  16   2   0]\n",
            " [ 20 225   0   0]\n",
            " [ 19   7 105   0]\n",
            " [  7   4   3   9]]\n",
            "Testing CM:\n",
            " [[86  8  9  0]\n",
            " [ 8 56  2  1]\n",
            " [ 8  5 13  0]\n",
            " [ 3  1  0  0]]\n"
          ]
        }
      ],
      "source": [
        "y_train_hat = dt_auto_depth.predict(x_train)\n",
        "print('Training set F1:', f1_score(y_train, y_train_hat, average='weighted', labels=[0, 1, 2, 3]))\n",
        "y_test_hat = dt_auto_depth.predict(x_test)\n",
        "print('Testing set F1:', f1_score(y_test, y_test_hat, average='weighted', labels=[0, 1, 2, 3]))\n",
        "print('Training CM:\\n', confusion_matrix(y_train, y_train_hat))\n",
        "print('Testing CM:\\n', confusion_matrix(y_test, y_test_hat))"
      ]
    },
    {
      "attachments": {},
      "cell_type": "markdown",
      "metadata": {
        "id": "KPGzO4kcKNpv"
      },
      "source": [
        "The model predicts some variables belonging to other classes as the major class.\n",
        "\n",
        "We use binning method to redice the noise in the dataset. By default, it uses `strategy='quantile'` and follows the equal-depth criteria."
      ]
    },
    {
      "cell_type": "code",
      "execution_count": 18,
      "metadata": {
        "id": "TwnKv7y0KkJT"
      },
      "outputs": [],
      "source": [
        "class BinningWrapper(TransformerMixin):\n",
        "  def __init__(self, n_bins=None, n_features=None, **features):\n",
        "    self.n_bins = n_bins\n",
        "    self.cols = np.zeros(n_features, dtype=int)\n",
        "    for i in range(n_features):\n",
        "      self.cols[i] = features.get(f'feature_{i}', 0)\n",
        "    self.bin = KBinsDiscretizer(n_bins=self.n_bins, encode='ordinal', random_state=217334)\n",
        "\n",
        "  def fit(self, x, y=None):\n",
        "    x_ = deepcopy(x)\n",
        "    if isinstance(x_, pd.DataFrame):\n",
        "      x_ = x_.values\n",
        "    self.bin.fit(x_[:, self.cols])\n",
        "    return self\n",
        "  \n",
        "  def transform(self, x):\n",
        "    x_ = deepcopy(x)\n",
        "    if isinstance(x_, pd.DataFrame):\n",
        "      x_ = x_.values\n",
        "    x_[:, self.cols] = self.bin.transform(x_[:, self.cols])\n",
        "    return x_\n",
        "\n",
        "  def set_params(self, **kwargs):\n",
        "    for k, v in kwargs.items():\n",
        "      self.__dict__[k] = v\n",
        "    if 'n_bins' in kwargs.keys():\n",
        "      self.bin = KBinsDiscretizer(n_bins=self.n_bins, encode='ordinal', random_state=217334)"
      ]
    },
    {
      "attachments": {},
      "cell_type": "markdown",
      "metadata": {
        "id": "hNSJYEg5LKXB"
      },
      "source": [
        "We fit the same decision tree (**model 5**) on the dataset after binning."
      ]
    },
    {
      "cell_type": "code",
      "execution_count": 19,
      "metadata": {
        "colab": {
          "base_uri": "https://localhost:8080/",
          "height": 151
        },
        "id": "5BcNbd6wLOgy",
        "outputId": "f27af27d-2fee-4546-a227-120a916aefb2"
      },
      "outputs": [
        {
          "data": {
            "text/html": [
              "<style>#sk-container-id-5 {color: black;background-color: white;}#sk-container-id-5 pre{padding: 0;}#sk-container-id-5 div.sk-toggleable {background-color: white;}#sk-container-id-5 label.sk-toggleable__label {cursor: pointer;display: block;width: 100%;margin-bottom: 0;padding: 0.3em;box-sizing: border-box;text-align: center;}#sk-container-id-5 label.sk-toggleable__label-arrow:before {content: \"▸\";float: left;margin-right: 0.25em;color: #696969;}#sk-container-id-5 label.sk-toggleable__label-arrow:hover:before {color: black;}#sk-container-id-5 div.sk-estimator:hover label.sk-toggleable__label-arrow:before {color: black;}#sk-container-id-5 div.sk-toggleable__content {max-height: 0;max-width: 0;overflow: hidden;text-align: left;background-color: #f0f8ff;}#sk-container-id-5 div.sk-toggleable__content pre {margin: 0.2em;color: black;border-radius: 0.25em;background-color: #f0f8ff;}#sk-container-id-5 input.sk-toggleable__control:checked~div.sk-toggleable__content {max-height: 200px;max-width: 100%;overflow: auto;}#sk-container-id-5 input.sk-toggleable__control:checked~label.sk-toggleable__label-arrow:before {content: \"▾\";}#sk-container-id-5 div.sk-estimator input.sk-toggleable__control:checked~label.sk-toggleable__label {background-color: #d4ebff;}#sk-container-id-5 div.sk-label input.sk-toggleable__control:checked~label.sk-toggleable__label {background-color: #d4ebff;}#sk-container-id-5 input.sk-hidden--visually {border: 0;clip: rect(1px 1px 1px 1px);clip: rect(1px, 1px, 1px, 1px);height: 1px;margin: -1px;overflow: hidden;padding: 0;position: absolute;width: 1px;}#sk-container-id-5 div.sk-estimator {font-family: monospace;background-color: #f0f8ff;border: 1px dotted black;border-radius: 0.25em;box-sizing: border-box;margin-bottom: 0.5em;}#sk-container-id-5 div.sk-estimator:hover {background-color: #d4ebff;}#sk-container-id-5 div.sk-parallel-item::after {content: \"\";width: 100%;border-bottom: 1px solid gray;flex-grow: 1;}#sk-container-id-5 div.sk-label:hover label.sk-toggleable__label {background-color: #d4ebff;}#sk-container-id-5 div.sk-serial::before {content: \"\";position: absolute;border-left: 1px solid gray;box-sizing: border-box;top: 0;bottom: 0;left: 50%;z-index: 0;}#sk-container-id-5 div.sk-serial {display: flex;flex-direction: column;align-items: center;background-color: white;padding-right: 0.2em;padding-left: 0.2em;position: relative;}#sk-container-id-5 div.sk-item {position: relative;z-index: 1;}#sk-container-id-5 div.sk-parallel {display: flex;align-items: stretch;justify-content: center;background-color: white;position: relative;}#sk-container-id-5 div.sk-item::before, #sk-container-id-5 div.sk-parallel-item::before {content: \"\";position: absolute;border-left: 1px solid gray;box-sizing: border-box;top: 0;bottom: 0;left: 50%;z-index: -1;}#sk-container-id-5 div.sk-parallel-item {display: flex;flex-direction: column;z-index: 1;position: relative;background-color: white;}#sk-container-id-5 div.sk-parallel-item:first-child::after {align-self: flex-end;width: 50%;}#sk-container-id-5 div.sk-parallel-item:last-child::after {align-self: flex-start;width: 50%;}#sk-container-id-5 div.sk-parallel-item:only-child::after {width: 0;}#sk-container-id-5 div.sk-dashed-wrapped {border: 1px dashed gray;margin: 0 0.4em 0.5em 0.4em;box-sizing: border-box;padding-bottom: 0.4em;background-color: white;}#sk-container-id-5 div.sk-label label {font-family: monospace;font-weight: bold;display: inline-block;line-height: 1.2em;}#sk-container-id-5 div.sk-label-container {text-align: center;}#sk-container-id-5 div.sk-container {/* jupyter's `normalize.less` sets `[hidden] { display: none; }` but bootstrap.min.css set `[hidden] { display: none !important; }` so we also need the `!important` here to be able to override the default hidden behavior on the sphinx rendered scikit-learn.org. See: https://github.com/scikit-learn/scikit-learn/issues/21755 */display: inline-block !important;position: relative;}#sk-container-id-5 div.sk-text-repr-fallback {display: none;}</style><div id=\"sk-container-id-5\" class=\"sk-top-container\"><div class=\"sk-text-repr-fallback\"><pre>BayesSearchCV(cv=5,\n",
              "              estimator=Pipeline(steps=[(&#x27;bin&#x27;,\n",
              "                                         &lt;__main__.BinningWrapper object at 0x7f8193798b80&gt;),\n",
              "                                        (&#x27;dt&#x27;,\n",
              "                                         DecisionTreeClassifier(random_state=29458))]),\n",
              "              n_iter=16, n_jobs=-1, random_state=10459,\n",
              "              search_spaces={&#x27;bin__feature_0&#x27;: (0, 1), &#x27;bin__feature_1&#x27;: (0, 1),\n",
              "                             &#x27;bin__feature_10&#x27;: (0, 1),\n",
              "                             &#x27;bin__feature_11&#x27;: (0, 1),\n",
              "                             &#x27;bin__feature_12&#x27;: (0, 1),\n",
              "                             &#x27;bin__feature_13&#x27;: (0, 1),\n",
              "                             &#x27;...,\n",
              "                             &#x27;bin__feature_15&#x27;: (0, 1),\n",
              "                             &#x27;bin__feature_16&#x27;: (0, 1),\n",
              "                             &#x27;bin__feature_17&#x27;: (0, 1),\n",
              "                             &#x27;bin__feature_18&#x27;: (0, 1),\n",
              "                             &#x27;bin__feature_19&#x27;: (0, 1),\n",
              "                             &#x27;bin__feature_2&#x27;: (0, 1), &#x27;bin__feature_3&#x27;: (0, 1),\n",
              "                             &#x27;bin__feature_4&#x27;: (0, 1), &#x27;bin__feature_5&#x27;: (0, 1),\n",
              "                             &#x27;bin__feature_6&#x27;: (0, 1), &#x27;bin__feature_7&#x27;: (0, 1),\n",
              "                             &#x27;bin__feature_8&#x27;: (0, 1), &#x27;bin__feature_9&#x27;: (0, 1),\n",
              "                             &#x27;bin__n_bins&#x27;: (5, 15), &#x27;dt__max_depth&#x27;: (3, 17)})</pre><b>In a Jupyter environment, please rerun this cell to show the HTML representation or trust the notebook. <br />On GitHub, the HTML representation is unable to render, please try loading this page with nbviewer.org.</b></div><div class=\"sk-container\" hidden><div class=\"sk-item sk-dashed-wrapped\"><div class=\"sk-label-container\"><div class=\"sk-label sk-toggleable\"><input class=\"sk-toggleable__control sk-hidden--visually\" id=\"sk-estimator-id-13\" type=\"checkbox\" ><label for=\"sk-estimator-id-13\" class=\"sk-toggleable__label sk-toggleable__label-arrow\">BayesSearchCV</label><div class=\"sk-toggleable__content\"><pre>BayesSearchCV(cv=5,\n",
              "              estimator=Pipeline(steps=[(&#x27;bin&#x27;,\n",
              "                                         &lt;__main__.BinningWrapper object at 0x7f8193798b80&gt;),\n",
              "                                        (&#x27;dt&#x27;,\n",
              "                                         DecisionTreeClassifier(random_state=29458))]),\n",
              "              n_iter=16, n_jobs=-1, random_state=10459,\n",
              "              search_spaces={&#x27;bin__feature_0&#x27;: (0, 1), &#x27;bin__feature_1&#x27;: (0, 1),\n",
              "                             &#x27;bin__feature_10&#x27;: (0, 1),\n",
              "                             &#x27;bin__feature_11&#x27;: (0, 1),\n",
              "                             &#x27;bin__feature_12&#x27;: (0, 1),\n",
              "                             &#x27;bin__feature_13&#x27;: (0, 1),\n",
              "                             &#x27;...,\n",
              "                             &#x27;bin__feature_15&#x27;: (0, 1),\n",
              "                             &#x27;bin__feature_16&#x27;: (0, 1),\n",
              "                             &#x27;bin__feature_17&#x27;: (0, 1),\n",
              "                             &#x27;bin__feature_18&#x27;: (0, 1),\n",
              "                             &#x27;bin__feature_19&#x27;: (0, 1),\n",
              "                             &#x27;bin__feature_2&#x27;: (0, 1), &#x27;bin__feature_3&#x27;: (0, 1),\n",
              "                             &#x27;bin__feature_4&#x27;: (0, 1), &#x27;bin__feature_5&#x27;: (0, 1),\n",
              "                             &#x27;bin__feature_6&#x27;: (0, 1), &#x27;bin__feature_7&#x27;: (0, 1),\n",
              "                             &#x27;bin__feature_8&#x27;: (0, 1), &#x27;bin__feature_9&#x27;: (0, 1),\n",
              "                             &#x27;bin__n_bins&#x27;: (5, 15), &#x27;dt__max_depth&#x27;: (3, 17)})</pre></div></div></div><div class=\"sk-parallel\"><div class=\"sk-parallel-item\"><div class=\"sk-item\"><div class=\"sk-label-container\"><div class=\"sk-label sk-toggleable\"><input class=\"sk-toggleable__control sk-hidden--visually\" id=\"sk-estimator-id-14\" type=\"checkbox\" ><label for=\"sk-estimator-id-14\" class=\"sk-toggleable__label sk-toggleable__label-arrow\">estimator: Pipeline</label><div class=\"sk-toggleable__content\"><pre>Pipeline(steps=[(&#x27;bin&#x27;, &lt;__main__.BinningWrapper object at 0x7f8193798b80&gt;),\n",
              "                (&#x27;dt&#x27;, DecisionTreeClassifier(random_state=29458))])</pre></div></div></div><div class=\"sk-serial\"><div class=\"sk-item\"><div class=\"sk-serial\"><div class=\"sk-item\"><div class=\"sk-estimator sk-toggleable\"><input class=\"sk-toggleable__control sk-hidden--visually\" id=\"sk-estimator-id-15\" type=\"checkbox\" ><label for=\"sk-estimator-id-15\" class=\"sk-toggleable__label sk-toggleable__label-arrow\">BinningWrapper</label><div class=\"sk-toggleable__content\"><pre>&lt;__main__.BinningWrapper object at 0x7f8193798b80&gt;</pre></div></div></div><div class=\"sk-item\"><div class=\"sk-estimator sk-toggleable\"><input class=\"sk-toggleable__control sk-hidden--visually\" id=\"sk-estimator-id-16\" type=\"checkbox\" ><label for=\"sk-estimator-id-16\" class=\"sk-toggleable__label sk-toggleable__label-arrow\">DecisionTreeClassifier</label><div class=\"sk-toggleable__content\"><pre>DecisionTreeClassifier(random_state=29458)</pre></div></div></div></div></div></div></div></div></div></div></div></div>"
            ],
            "text/plain": [
              "BayesSearchCV(cv=5,\n",
              "              estimator=Pipeline(steps=[('bin',\n",
              "                                         <__main__.BinningWrapper object at 0x7f8193798b80>),\n",
              "                                        ('dt',\n",
              "                                         DecisionTreeClassifier(random_state=29458))]),\n",
              "              n_iter=16, n_jobs=-1, random_state=10459,\n",
              "              search_spaces={'bin__feature_0': (0, 1), 'bin__feature_1': (0, 1),\n",
              "                             'bin__feature_10': (0, 1),\n",
              "                             'bin__feature_11': (0, 1),\n",
              "                             'bin__feature_12': (0, 1),\n",
              "                             'bin__feature_13': (0, 1),\n",
              "                             '...,\n",
              "                             'bin__feature_15': (0, 1),\n",
              "                             'bin__feature_16': (0, 1),\n",
              "                             'bin__feature_17': (0, 1),\n",
              "                             'bin__feature_18': (0, 1),\n",
              "                             'bin__feature_19': (0, 1),\n",
              "                             'bin__feature_2': (0, 1), 'bin__feature_3': (0, 1),\n",
              "                             'bin__feature_4': (0, 1), 'bin__feature_5': (0, 1),\n",
              "                             'bin__feature_6': (0, 1), 'bin__feature_7': (0, 1),\n",
              "                             'bin__feature_8': (0, 1), 'bin__feature_9': (0, 1),\n",
              "                             'bin__n_bins': (5, 15), 'dt__max_depth': (3, 17)})"
            ]
          },
          "execution_count": 19,
          "metadata": {},
          "output_type": "execute_result"
        }
      ],
      "source": [
        "bin_pipeline = BayesSearchCV(\n",
        "    Pipeline([\n",
        "        ('bin', BinningWrapper(n_features=x_train.shape[1])),\n",
        "        ('dt', DecisionTreeClassifier(random_state=29458)),\n",
        "    ]),\n",
        "    {'dt__max_depth': (3, 17),\n",
        "     'bin__n_bins': (5, 15),\n",
        "     } | {f'bin__feature_{i}': (0, 1) for i in range(x_train.shape[1])},\n",
        "    cv=5, random_state=10459, n_iter=16, n_jobs=-1\n",
        ")\n",
        "bin_pipeline.fit(x_train, y_train)"
      ]
    },
    {
      "attachments": {},
      "cell_type": "markdown",
      "metadata": {
        "id": "Q9kIKnULLcgb"
      },
      "source": [
        "We evaluate the training and testing F1 score for model 5."
      ]
    },
    {
      "cell_type": "code",
      "execution_count": 20,
      "metadata": {
        "colab": {
          "base_uri": "https://localhost:8080/"
        },
        "id": "31n-BgBmLewY",
        "outputId": "0187520e-b3ce-4844-fd13-8ac6b0b13933"
      },
      "outputs": [
        {
          "name": "stdout",
          "output_type": "stream",
          "text": [
            "Training set F1: 0.8987467269764289\n",
            "Testing set F1: 0.7673339977540707\n",
            "Training CM:\n",
            " [[383  16   2   0]\n",
            " [ 20 225   0   0]\n",
            " [ 19   7 105   0]\n",
            " [  7   4   3   9]]\n",
            "Testing CM:\n",
            " [[86  8  9  0]\n",
            " [ 8 56  2  1]\n",
            " [ 8  5 13  0]\n",
            " [ 3  1  0  0]]\n"
          ]
        }
      ],
      "source": [
        "y_train_hat = bin_pipeline.predict(x_train)\n",
        "print('Training set F1:', f1_score(y_train, y_train_hat, average='weighted', labels=[0, 1, 2, 3]))\n",
        "y_test_hat = bin_pipeline.predict(x_test)\n",
        "print('Testing set F1:', f1_score(y_test, y_test_hat, average='weighted', labels=[0, 1, 2, 3]))\n",
        "print('Training CM:\\n', confusion_matrix(y_train, y_train_hat))\n",
        "print('Testing CM:\\n', confusion_matrix(y_test, y_test_hat))"
      ]
    },
    {
      "attachments": {},
      "cell_type": "markdown",
      "metadata": {
        "id": "8On0QWqzUIb5"
      },
      "source": [
        "Which features does the model dicretize?"
      ]
    },
    {
      "cell_type": "code",
      "execution_count": 21,
      "metadata": {
        "colab": {
          "base_uri": "https://localhost:8080/"
        },
        "id": "Ze3wB8M-a33C",
        "outputId": "bc93205a-b6e3-4956-bca3-1104673144bc"
      },
      "outputs": [
        {
          "data": {
            "text/plain": [
              "OrderedDict([('bin__feature_0', 1),\n",
              "             ('bin__feature_1', 1),\n",
              "             ('bin__feature_10', 0),\n",
              "             ('bin__feature_11', 0),\n",
              "             ('bin__feature_12', 0),\n",
              "             ('bin__feature_13', 1),\n",
              "             ('bin__feature_14', 0),\n",
              "             ('bin__feature_15', 0),\n",
              "             ('bin__feature_16', 0),\n",
              "             ('bin__feature_17', 0),\n",
              "             ('bin__feature_18', 0),\n",
              "             ('bin__feature_19', 0),\n",
              "             ('bin__feature_2', 0),\n",
              "             ('bin__feature_3', 0),\n",
              "             ('bin__feature_4', 1),\n",
              "             ('bin__feature_5', 1),\n",
              "             ('bin__feature_6', 1),\n",
              "             ('bin__feature_7', 1),\n",
              "             ('bin__feature_8', 1),\n",
              "             ('bin__feature_9', 1),\n",
              "             ('bin__n_bins', 11),\n",
              "             ('dt__max_depth', 6)])"
            ]
          },
          "execution_count": 21,
          "metadata": {},
          "output_type": "execute_result"
        }
      ],
      "source": [
        "bin_pipeline.best_params_"
      ]
    },
    {
      "attachments": {},
      "cell_type": "markdown",
      "metadata": {
        "id": "CNmMp9-iHr_z"
      },
      "source": [
        "## 4. Fill missing values\n",
        "\n",
        "In this section, we investigate the effect of missing values. To begin with, we design a function to randomly generate some missing values in the training set."
      ]
    },
    {
      "cell_type": "code",
      "execution_count": 22,
      "metadata": {
        "id": "31KRcQXM9AEn"
      },
      "outputs": [],
      "source": [
        "def generate_missing_values(array, missing_ratio, random_state):\n",
        "  array_ = array.copy()\n",
        "  rs_ = np.random.RandomState(seed=random_state)\n",
        "  mask = np.zeros(array_.shape)\n",
        "  n, m = array_.shape\n",
        "  adjusted_values = rs_.choice(n * m, size=int(n * m * missing_ratio), replace=False)\n",
        "  row_idx = adjusted_values // m\n",
        "  col_idx = adjusted_values % m\n",
        "  array_[row_idx, col_idx] = np.nan\n",
        "  return array_"
      ]
    },
    {
      "attachments": {},
      "cell_type": "markdown",
      "metadata": {
        "id": "B1fWRHUOkG_J"
      },
      "source": [
        "We randomly insert some missing values into the dataset."
      ]
    },
    {
      "cell_type": "code",
      "execution_count": 23,
      "metadata": {
        "id": "CLAICrW3kP0Z"
      },
      "outputs": [],
      "source": [
        "x_train_missing = generate_missing_values(x_train, 0.5, random_state=438218623)\n",
        "x_test_missing = generate_missing_values(x_test, 0.5, random_state=438218623)"
      ]
    },
    {
      "attachments": {},
      "cell_type": "markdown",
      "metadata": {
        "id": "uACQLZ7ewRVJ"
      },
      "source": [
        "### 4.1. Overall mean value\n",
        "\n",
        "We have learnt several methods to fill the missing value.\n",
        "First, fill with the overall mean value."
      ]
    },
    {
      "cell_type": "code",
      "execution_count": 24,
      "metadata": {
        "id": "OoHJD0OPpegj"
      },
      "outputs": [],
      "source": [
        "x_train_filled_1 = x_train_missing.copy()\n",
        "x_test_filled_1 = x_test_missing.copy()\n",
        "for i in range(x_train_missing.shape[1]):\n",
        "  mean_ = np.nanmean(x_train_missing[:, i])\n",
        "  x_train_filled_1[:, i] = np.nan_to_num(x_train_missing[:, i], nan=mean_)\n",
        "  x_test_filled_1[:, i] = np.nan_to_num(x_test_missing[:, i], nan=mean_)"
      ]
    },
    {
      "attachments": {},
      "cell_type": "markdown",
      "metadata": {
        "id": "a50ALQlRZ6c0"
      },
      "source": [
        "Fit a decision tree model (**model 6**) to evaluate the improvement."
      ]
    },
    {
      "cell_type": "code",
      "execution_count": 25,
      "metadata": {
        "colab": {
          "base_uri": "https://localhost:8080/",
          "height": 206
        },
        "id": "b_ZT5_uoZqNZ",
        "outputId": "16541625-e226-4b6d-8bf9-67e6926fd687"
      },
      "outputs": [
        {
          "name": "stderr",
          "output_type": "stream",
          "text": [
            "/usr/local/lib/python3.9/dist-packages/skopt/optimizer/optimizer.py:449: UserWarning: The objective has been evaluated at this point before.\n",
            "  warnings.warn(\"The objective has been evaluated \"\n",
            "/usr/local/lib/python3.9/dist-packages/skopt/optimizer/optimizer.py:449: UserWarning: The objective has been evaluated at this point before.\n",
            "  warnings.warn(\"The objective has been evaluated \"\n"
          ]
        },
        {
          "data": {
            "text/html": [
              "<style>#sk-container-id-6 {color: black;background-color: white;}#sk-container-id-6 pre{padding: 0;}#sk-container-id-6 div.sk-toggleable {background-color: white;}#sk-container-id-6 label.sk-toggleable__label {cursor: pointer;display: block;width: 100%;margin-bottom: 0;padding: 0.3em;box-sizing: border-box;text-align: center;}#sk-container-id-6 label.sk-toggleable__label-arrow:before {content: \"▸\";float: left;margin-right: 0.25em;color: #696969;}#sk-container-id-6 label.sk-toggleable__label-arrow:hover:before {color: black;}#sk-container-id-6 div.sk-estimator:hover label.sk-toggleable__label-arrow:before {color: black;}#sk-container-id-6 div.sk-toggleable__content {max-height: 0;max-width: 0;overflow: hidden;text-align: left;background-color: #f0f8ff;}#sk-container-id-6 div.sk-toggleable__content pre {margin: 0.2em;color: black;border-radius: 0.25em;background-color: #f0f8ff;}#sk-container-id-6 input.sk-toggleable__control:checked~div.sk-toggleable__content {max-height: 200px;max-width: 100%;overflow: auto;}#sk-container-id-6 input.sk-toggleable__control:checked~label.sk-toggleable__label-arrow:before {content: \"▾\";}#sk-container-id-6 div.sk-estimator input.sk-toggleable__control:checked~label.sk-toggleable__label {background-color: #d4ebff;}#sk-container-id-6 div.sk-label input.sk-toggleable__control:checked~label.sk-toggleable__label {background-color: #d4ebff;}#sk-container-id-6 input.sk-hidden--visually {border: 0;clip: rect(1px 1px 1px 1px);clip: rect(1px, 1px, 1px, 1px);height: 1px;margin: -1px;overflow: hidden;padding: 0;position: absolute;width: 1px;}#sk-container-id-6 div.sk-estimator {font-family: monospace;background-color: #f0f8ff;border: 1px dotted black;border-radius: 0.25em;box-sizing: border-box;margin-bottom: 0.5em;}#sk-container-id-6 div.sk-estimator:hover {background-color: #d4ebff;}#sk-container-id-6 div.sk-parallel-item::after {content: \"\";width: 100%;border-bottom: 1px solid gray;flex-grow: 1;}#sk-container-id-6 div.sk-label:hover label.sk-toggleable__label {background-color: #d4ebff;}#sk-container-id-6 div.sk-serial::before {content: \"\";position: absolute;border-left: 1px solid gray;box-sizing: border-box;top: 0;bottom: 0;left: 50%;z-index: 0;}#sk-container-id-6 div.sk-serial {display: flex;flex-direction: column;align-items: center;background-color: white;padding-right: 0.2em;padding-left: 0.2em;position: relative;}#sk-container-id-6 div.sk-item {position: relative;z-index: 1;}#sk-container-id-6 div.sk-parallel {display: flex;align-items: stretch;justify-content: center;background-color: white;position: relative;}#sk-container-id-6 div.sk-item::before, #sk-container-id-6 div.sk-parallel-item::before {content: \"\";position: absolute;border-left: 1px solid gray;box-sizing: border-box;top: 0;bottom: 0;left: 50%;z-index: -1;}#sk-container-id-6 div.sk-parallel-item {display: flex;flex-direction: column;z-index: 1;position: relative;background-color: white;}#sk-container-id-6 div.sk-parallel-item:first-child::after {align-self: flex-end;width: 50%;}#sk-container-id-6 div.sk-parallel-item:last-child::after {align-self: flex-start;width: 50%;}#sk-container-id-6 div.sk-parallel-item:only-child::after {width: 0;}#sk-container-id-6 div.sk-dashed-wrapped {border: 1px dashed gray;margin: 0 0.4em 0.5em 0.4em;box-sizing: border-box;padding-bottom: 0.4em;background-color: white;}#sk-container-id-6 div.sk-label label {font-family: monospace;font-weight: bold;display: inline-block;line-height: 1.2em;}#sk-container-id-6 div.sk-label-container {text-align: center;}#sk-container-id-6 div.sk-container {/* jupyter's `normalize.less` sets `[hidden] { display: none; }` but bootstrap.min.css set `[hidden] { display: none !important; }` so we also need the `!important` here to be able to override the default hidden behavior on the sphinx rendered scikit-learn.org. See: https://github.com/scikit-learn/scikit-learn/issues/21755 */display: inline-block !important;position: relative;}#sk-container-id-6 div.sk-text-repr-fallback {display: none;}</style><div id=\"sk-container-id-6\" class=\"sk-top-container\"><div class=\"sk-text-repr-fallback\"><pre>BayesSearchCV(cv=5, estimator=DecisionTreeClassifier(random_state=29458),\n",
              "              n_iter=16, n_jobs=-1, random_state=10459,\n",
              "              search_spaces={&#x27;max_depth&#x27;: (3, 17)})</pre><b>In a Jupyter environment, please rerun this cell to show the HTML representation or trust the notebook. <br />On GitHub, the HTML representation is unable to render, please try loading this page with nbviewer.org.</b></div><div class=\"sk-container\" hidden><div class=\"sk-item sk-dashed-wrapped\"><div class=\"sk-label-container\"><div class=\"sk-label sk-toggleable\"><input class=\"sk-toggleable__control sk-hidden--visually\" id=\"sk-estimator-id-17\" type=\"checkbox\" ><label for=\"sk-estimator-id-17\" class=\"sk-toggleable__label sk-toggleable__label-arrow\">BayesSearchCV</label><div class=\"sk-toggleable__content\"><pre>BayesSearchCV(cv=5, estimator=DecisionTreeClassifier(random_state=29458),\n",
              "              n_iter=16, n_jobs=-1, random_state=10459,\n",
              "              search_spaces={&#x27;max_depth&#x27;: (3, 17)})</pre></div></div></div><div class=\"sk-parallel\"><div class=\"sk-parallel-item\"><div class=\"sk-item\"><div class=\"sk-label-container\"><div class=\"sk-label sk-toggleable\"><input class=\"sk-toggleable__control sk-hidden--visually\" id=\"sk-estimator-id-18\" type=\"checkbox\" ><label for=\"sk-estimator-id-18\" class=\"sk-toggleable__label sk-toggleable__label-arrow\">estimator: DecisionTreeClassifier</label><div class=\"sk-toggleable__content\"><pre>DecisionTreeClassifier(random_state=29458)</pre></div></div></div><div class=\"sk-serial\"><div class=\"sk-item\"><div class=\"sk-estimator sk-toggleable\"><input class=\"sk-toggleable__control sk-hidden--visually\" id=\"sk-estimator-id-19\" type=\"checkbox\" ><label for=\"sk-estimator-id-19\" class=\"sk-toggleable__label sk-toggleable__label-arrow\">DecisionTreeClassifier</label><div class=\"sk-toggleable__content\"><pre>DecisionTreeClassifier(random_state=29458)</pre></div></div></div></div></div></div></div></div></div></div>"
            ],
            "text/plain": [
              "BayesSearchCV(cv=5, estimator=DecisionTreeClassifier(random_state=29458),\n",
              "              n_iter=16, n_jobs=-1, random_state=10459,\n",
              "              search_spaces={'max_depth': (3, 17)})"
            ]
          },
          "execution_count": 25,
          "metadata": {},
          "output_type": "execute_result"
        }
      ],
      "source": [
        "dt_auto_depth = BayesSearchCV(\n",
        "    DecisionTreeClassifier(random_state=29458),\n",
        "    {'max_depth': (3, 17)},\n",
        "    cv=5, random_state=10459, n_iter=16, n_jobs=-1\n",
        ")\n",
        "dt_auto_depth.fit(x_train_filled_1, y_train)"
      ]
    },
    {
      "attachments": {},
      "cell_type": "markdown",
      "metadata": {
        "id": "4dUNC2ZKZqNf"
      },
      "source": [
        "Evaluate the performance of model 6."
      ]
    },
    {
      "cell_type": "code",
      "execution_count": 26,
      "metadata": {
        "colab": {
          "base_uri": "https://localhost:8080/"
        },
        "id": "vMY-OtDLZqNf",
        "outputId": "9836766e-8bae-457b-d1bd-7af173b0ea14"
      },
      "outputs": [
        {
          "name": "stdout",
          "output_type": "stream",
          "text": [
            "Training set F1: 0.7101238465940719\n",
            "Testing set F1: 0.5462115951722252\n",
            "Training CM:\n",
            " [[383  17   1   0]\n",
            " [ 92 150   3   0]\n",
            " [ 77   4  50   0]\n",
            " [ 15   3   2   3]]\n",
            "Testing CM:\n",
            " [[90  8  5  0]\n",
            " [41 24  2  0]\n",
            " [16  6  4  0]\n",
            " [ 4  0  0  0]]\n"
          ]
        }
      ],
      "source": [
        "y_train_hat = dt_auto_depth.predict(x_train_filled_1)\n",
        "print('Training set F1:', f1_score(y_train, y_train_hat, average='weighted', labels=[0, 1, 2, 3]))\n",
        "y_test_hat = dt_auto_depth.predict(x_test_filled_1)\n",
        "print('Testing set F1:', f1_score(y_test, y_test_hat, average='weighted', labels=[0, 1, 2, 3]))\n",
        "print('Training CM:\\n', confusion_matrix(y_train, y_train_hat))\n",
        "print('Testing CM:\\n', confusion_matrix(y_test, y_test_hat))"
      ]
    },
    {
      "attachments": {},
      "cell_type": "markdown",
      "metadata": {
        "id": "qf5ZJQiJsazp"
      },
      "source": [
        "### 4.2. In-class mean value\n",
        "\n",
        "Second, fill with the mean of the observations with the same class Y.\n",
        "\n",
        "Notice on testing set, we cannot know Y and have to fallback to method 1."
      ]
    },
    {
      "cell_type": "code",
      "execution_count": 27,
      "metadata": {
        "id": "GDgVAGz_udPi"
      },
      "outputs": [],
      "source": [
        "x_train_filled_2 = x_train_missing.copy()\n",
        "for uy in np.unique(y_train):\n",
        "  idx = np.where(y_train == uy)\n",
        "  for i in range(x_train_missing.shape[1]):\n",
        "    mean_ = np.nanmean(x_train_missing[idx, i])\n",
        "    x_train_filled_2[idx, i] = np.nan_to_num(x_train_missing[idx, i], nan=mean_)\n",
        "x_test_filled_2 = x_test_missing.copy()\n",
        "for i in range(x_train_missing.shape[1]):\n",
        "  mean_ = np.nanmean(x_train_missing[:, i])\n",
        "  x_test_filled_2[:, i] = np.nan_to_num(x_test_missing[:, i], nan=mean_)"
      ]
    },
    {
      "attachments": {},
      "cell_type": "markdown",
      "metadata": {
        "id": "Bh3ijOvhaEgL"
      },
      "source": [
        "Fit a decision tree model (**model 6**) to evaluate the improvement."
      ]
    },
    {
      "cell_type": "code",
      "execution_count": 28,
      "metadata": {
        "colab": {
          "base_uri": "https://localhost:8080/",
          "height": 117
        },
        "id": "viTp9I7baAZt",
        "outputId": "606232b2-0535-4423-9c19-058afd9b6eec"
      },
      "outputs": [
        {
          "data": {
            "text/html": [
              "<style>#sk-container-id-7 {color: black;background-color: white;}#sk-container-id-7 pre{padding: 0;}#sk-container-id-7 div.sk-toggleable {background-color: white;}#sk-container-id-7 label.sk-toggleable__label {cursor: pointer;display: block;width: 100%;margin-bottom: 0;padding: 0.3em;box-sizing: border-box;text-align: center;}#sk-container-id-7 label.sk-toggleable__label-arrow:before {content: \"▸\";float: left;margin-right: 0.25em;color: #696969;}#sk-container-id-7 label.sk-toggleable__label-arrow:hover:before {color: black;}#sk-container-id-7 div.sk-estimator:hover label.sk-toggleable__label-arrow:before {color: black;}#sk-container-id-7 div.sk-toggleable__content {max-height: 0;max-width: 0;overflow: hidden;text-align: left;background-color: #f0f8ff;}#sk-container-id-7 div.sk-toggleable__content pre {margin: 0.2em;color: black;border-radius: 0.25em;background-color: #f0f8ff;}#sk-container-id-7 input.sk-toggleable__control:checked~div.sk-toggleable__content {max-height: 200px;max-width: 100%;overflow: auto;}#sk-container-id-7 input.sk-toggleable__control:checked~label.sk-toggleable__label-arrow:before {content: \"▾\";}#sk-container-id-7 div.sk-estimator input.sk-toggleable__control:checked~label.sk-toggleable__label {background-color: #d4ebff;}#sk-container-id-7 div.sk-label input.sk-toggleable__control:checked~label.sk-toggleable__label {background-color: #d4ebff;}#sk-container-id-7 input.sk-hidden--visually {border: 0;clip: rect(1px 1px 1px 1px);clip: rect(1px, 1px, 1px, 1px);height: 1px;margin: -1px;overflow: hidden;padding: 0;position: absolute;width: 1px;}#sk-container-id-7 div.sk-estimator {font-family: monospace;background-color: #f0f8ff;border: 1px dotted black;border-radius: 0.25em;box-sizing: border-box;margin-bottom: 0.5em;}#sk-container-id-7 div.sk-estimator:hover {background-color: #d4ebff;}#sk-container-id-7 div.sk-parallel-item::after {content: \"\";width: 100%;border-bottom: 1px solid gray;flex-grow: 1;}#sk-container-id-7 div.sk-label:hover label.sk-toggleable__label {background-color: #d4ebff;}#sk-container-id-7 div.sk-serial::before {content: \"\";position: absolute;border-left: 1px solid gray;box-sizing: border-box;top: 0;bottom: 0;left: 50%;z-index: 0;}#sk-container-id-7 div.sk-serial {display: flex;flex-direction: column;align-items: center;background-color: white;padding-right: 0.2em;padding-left: 0.2em;position: relative;}#sk-container-id-7 div.sk-item {position: relative;z-index: 1;}#sk-container-id-7 div.sk-parallel {display: flex;align-items: stretch;justify-content: center;background-color: white;position: relative;}#sk-container-id-7 div.sk-item::before, #sk-container-id-7 div.sk-parallel-item::before {content: \"\";position: absolute;border-left: 1px solid gray;box-sizing: border-box;top: 0;bottom: 0;left: 50%;z-index: -1;}#sk-container-id-7 div.sk-parallel-item {display: flex;flex-direction: column;z-index: 1;position: relative;background-color: white;}#sk-container-id-7 div.sk-parallel-item:first-child::after {align-self: flex-end;width: 50%;}#sk-container-id-7 div.sk-parallel-item:last-child::after {align-self: flex-start;width: 50%;}#sk-container-id-7 div.sk-parallel-item:only-child::after {width: 0;}#sk-container-id-7 div.sk-dashed-wrapped {border: 1px dashed gray;margin: 0 0.4em 0.5em 0.4em;box-sizing: border-box;padding-bottom: 0.4em;background-color: white;}#sk-container-id-7 div.sk-label label {font-family: monospace;font-weight: bold;display: inline-block;line-height: 1.2em;}#sk-container-id-7 div.sk-label-container {text-align: center;}#sk-container-id-7 div.sk-container {/* jupyter's `normalize.less` sets `[hidden] { display: none; }` but bootstrap.min.css set `[hidden] { display: none !important; }` so we also need the `!important` here to be able to override the default hidden behavior on the sphinx rendered scikit-learn.org. See: https://github.com/scikit-learn/scikit-learn/issues/21755 */display: inline-block !important;position: relative;}#sk-container-id-7 div.sk-text-repr-fallback {display: none;}</style><div id=\"sk-container-id-7\" class=\"sk-top-container\"><div class=\"sk-text-repr-fallback\"><pre>BayesSearchCV(cv=5, estimator=DecisionTreeClassifier(random_state=29458),\n",
              "              n_iter=16, n_jobs=-1, random_state=10459,\n",
              "              search_spaces={&#x27;max_depth&#x27;: (3, 17)})</pre><b>In a Jupyter environment, please rerun this cell to show the HTML representation or trust the notebook. <br />On GitHub, the HTML representation is unable to render, please try loading this page with nbviewer.org.</b></div><div class=\"sk-container\" hidden><div class=\"sk-item sk-dashed-wrapped\"><div class=\"sk-label-container\"><div class=\"sk-label sk-toggleable\"><input class=\"sk-toggleable__control sk-hidden--visually\" id=\"sk-estimator-id-20\" type=\"checkbox\" ><label for=\"sk-estimator-id-20\" class=\"sk-toggleable__label sk-toggleable__label-arrow\">BayesSearchCV</label><div class=\"sk-toggleable__content\"><pre>BayesSearchCV(cv=5, estimator=DecisionTreeClassifier(random_state=29458),\n",
              "              n_iter=16, n_jobs=-1, random_state=10459,\n",
              "              search_spaces={&#x27;max_depth&#x27;: (3, 17)})</pre></div></div></div><div class=\"sk-parallel\"><div class=\"sk-parallel-item\"><div class=\"sk-item\"><div class=\"sk-label-container\"><div class=\"sk-label sk-toggleable\"><input class=\"sk-toggleable__control sk-hidden--visually\" id=\"sk-estimator-id-21\" type=\"checkbox\" ><label for=\"sk-estimator-id-21\" class=\"sk-toggleable__label sk-toggleable__label-arrow\">estimator: DecisionTreeClassifier</label><div class=\"sk-toggleable__content\"><pre>DecisionTreeClassifier(random_state=29458)</pre></div></div></div><div class=\"sk-serial\"><div class=\"sk-item\"><div class=\"sk-estimator sk-toggleable\"><input class=\"sk-toggleable__control sk-hidden--visually\" id=\"sk-estimator-id-22\" type=\"checkbox\" ><label for=\"sk-estimator-id-22\" class=\"sk-toggleable__label sk-toggleable__label-arrow\">DecisionTreeClassifier</label><div class=\"sk-toggleable__content\"><pre>DecisionTreeClassifier(random_state=29458)</pre></div></div></div></div></div></div></div></div></div></div>"
            ],
            "text/plain": [
              "BayesSearchCV(cv=5, estimator=DecisionTreeClassifier(random_state=29458),\n",
              "              n_iter=16, n_jobs=-1, random_state=10459,\n",
              "              search_spaces={'max_depth': (3, 17)})"
            ]
          },
          "execution_count": 28,
          "metadata": {},
          "output_type": "execute_result"
        }
      ],
      "source": [
        "dt_auto_depth = BayesSearchCV(\n",
        "    DecisionTreeClassifier(random_state=29458),\n",
        "    {'max_depth': (3, 17)},\n",
        "    cv=5, random_state=10459, n_iter=16, n_jobs=-1\n",
        ")\n",
        "dt_auto_depth.fit(x_train_filled_2, y_train)"
      ]
    },
    {
      "attachments": {},
      "cell_type": "markdown",
      "metadata": {
        "id": "GiM3cMM3aAZt"
      },
      "source": [
        "Evaluate the performance of model 6."
      ]
    },
    {
      "cell_type": "code",
      "execution_count": 29,
      "metadata": {
        "colab": {
          "base_uri": "https://localhost:8080/"
        },
        "id": "ZaChBi0JaAZt",
        "outputId": "24177b75-75b4-4817-b7d2-9869837ed9ae"
      },
      "outputs": [
        {
          "name": "stdout",
          "output_type": "stream",
          "text": [
            "Training set F1: 0.9773694671545228\n",
            "Testing set F1: 0.592063157894737\n",
            "Training CM:\n",
            " [[401   0   0   0]\n",
            " [  9 236   0   0]\n",
            " [  1   3 125   2]\n",
            " [  2   1   0  20]]\n",
            "Testing CM:\n",
            " [[90  3  4  6]\n",
            " [37 24  2  4]\n",
            " [16  1  8  1]\n",
            " [ 4  0  0  0]]\n"
          ]
        }
      ],
      "source": [
        "y_train_hat = dt_auto_depth.predict(x_train_filled_2)\n",
        "print('Training set F1:', f1_score(y_train, y_train_hat, average='weighted', labels=[0, 1, 2, 3]))\n",
        "y_test_hat = dt_auto_depth.predict(x_test_filled_2)\n",
        "print('Testing set F1:', f1_score(y_test, y_test_hat, average='weighted', labels=[0, 1, 2, 3]))\n",
        "print('Training CM:\\n', confusion_matrix(y_train, y_train_hat))\n",
        "print('Testing CM:\\n', confusion_matrix(y_test, y_test_hat))"
      ]
    },
    {
      "attachments": {},
      "cell_type": "markdown",
      "metadata": {
        "id": "uVddc9W9tKBT"
      },
      "source": [
        "### 4.3. New class\n",
        "\n",
        "Third, fill as a new class. If the variable is continuous, we could use a value that never appeared."
      ]
    },
    {
      "cell_type": "code",
      "execution_count": 30,
      "metadata": {
        "id": "mcLk1MKWtNN_"
      },
      "outputs": [],
      "source": [
        "x_train_filled_3 = np.nan_to_num(x_train_missing, nan=np.nanmin(x_train_missing) - 1)\n",
        "x_test_filled_3 = np.nan_to_num(x_test_missing, nan=np.nanmin(x_train_missing) - 1)"
      ]
    },
    {
      "attachments": {},
      "cell_type": "markdown",
      "metadata": {
        "id": "4LQpjiNAaNT7"
      },
      "source": [
        "Fit a decision tree model (**model 6**) to evaluate the improvement."
      ]
    },
    {
      "cell_type": "code",
      "execution_count": 31,
      "metadata": {
        "colab": {
          "base_uri": "https://localhost:8080/",
          "height": 206
        },
        "id": "zKjbaFbFaNT8",
        "outputId": "66ee3aaf-948c-4052-c002-7a277441a0d7"
      },
      "outputs": [
        {
          "name": "stderr",
          "output_type": "stream",
          "text": [
            "/usr/local/lib/python3.9/dist-packages/skopt/optimizer/optimizer.py:449: UserWarning: The objective has been evaluated at this point before.\n",
            "  warnings.warn(\"The objective has been evaluated \"\n",
            "/usr/local/lib/python3.9/dist-packages/skopt/optimizer/optimizer.py:449: UserWarning: The objective has been evaluated at this point before.\n",
            "  warnings.warn(\"The objective has been evaluated \"\n"
          ]
        },
        {
          "data": {
            "text/html": [
              "<style>#sk-container-id-8 {color: black;background-color: white;}#sk-container-id-8 pre{padding: 0;}#sk-container-id-8 div.sk-toggleable {background-color: white;}#sk-container-id-8 label.sk-toggleable__label {cursor: pointer;display: block;width: 100%;margin-bottom: 0;padding: 0.3em;box-sizing: border-box;text-align: center;}#sk-container-id-8 label.sk-toggleable__label-arrow:before {content: \"▸\";float: left;margin-right: 0.25em;color: #696969;}#sk-container-id-8 label.sk-toggleable__label-arrow:hover:before {color: black;}#sk-container-id-8 div.sk-estimator:hover label.sk-toggleable__label-arrow:before {color: black;}#sk-container-id-8 div.sk-toggleable__content {max-height: 0;max-width: 0;overflow: hidden;text-align: left;background-color: #f0f8ff;}#sk-container-id-8 div.sk-toggleable__content pre {margin: 0.2em;color: black;border-radius: 0.25em;background-color: #f0f8ff;}#sk-container-id-8 input.sk-toggleable__control:checked~div.sk-toggleable__content {max-height: 200px;max-width: 100%;overflow: auto;}#sk-container-id-8 input.sk-toggleable__control:checked~label.sk-toggleable__label-arrow:before {content: \"▾\";}#sk-container-id-8 div.sk-estimator input.sk-toggleable__control:checked~label.sk-toggleable__label {background-color: #d4ebff;}#sk-container-id-8 div.sk-label input.sk-toggleable__control:checked~label.sk-toggleable__label {background-color: #d4ebff;}#sk-container-id-8 input.sk-hidden--visually {border: 0;clip: rect(1px 1px 1px 1px);clip: rect(1px, 1px, 1px, 1px);height: 1px;margin: -1px;overflow: hidden;padding: 0;position: absolute;width: 1px;}#sk-container-id-8 div.sk-estimator {font-family: monospace;background-color: #f0f8ff;border: 1px dotted black;border-radius: 0.25em;box-sizing: border-box;margin-bottom: 0.5em;}#sk-container-id-8 div.sk-estimator:hover {background-color: #d4ebff;}#sk-container-id-8 div.sk-parallel-item::after {content: \"\";width: 100%;border-bottom: 1px solid gray;flex-grow: 1;}#sk-container-id-8 div.sk-label:hover label.sk-toggleable__label {background-color: #d4ebff;}#sk-container-id-8 div.sk-serial::before {content: \"\";position: absolute;border-left: 1px solid gray;box-sizing: border-box;top: 0;bottom: 0;left: 50%;z-index: 0;}#sk-container-id-8 div.sk-serial {display: flex;flex-direction: column;align-items: center;background-color: white;padding-right: 0.2em;padding-left: 0.2em;position: relative;}#sk-container-id-8 div.sk-item {position: relative;z-index: 1;}#sk-container-id-8 div.sk-parallel {display: flex;align-items: stretch;justify-content: center;background-color: white;position: relative;}#sk-container-id-8 div.sk-item::before, #sk-container-id-8 div.sk-parallel-item::before {content: \"\";position: absolute;border-left: 1px solid gray;box-sizing: border-box;top: 0;bottom: 0;left: 50%;z-index: -1;}#sk-container-id-8 div.sk-parallel-item {display: flex;flex-direction: column;z-index: 1;position: relative;background-color: white;}#sk-container-id-8 div.sk-parallel-item:first-child::after {align-self: flex-end;width: 50%;}#sk-container-id-8 div.sk-parallel-item:last-child::after {align-self: flex-start;width: 50%;}#sk-container-id-8 div.sk-parallel-item:only-child::after {width: 0;}#sk-container-id-8 div.sk-dashed-wrapped {border: 1px dashed gray;margin: 0 0.4em 0.5em 0.4em;box-sizing: border-box;padding-bottom: 0.4em;background-color: white;}#sk-container-id-8 div.sk-label label {font-family: monospace;font-weight: bold;display: inline-block;line-height: 1.2em;}#sk-container-id-8 div.sk-label-container {text-align: center;}#sk-container-id-8 div.sk-container {/* jupyter's `normalize.less` sets `[hidden] { display: none; }` but bootstrap.min.css set `[hidden] { display: none !important; }` so we also need the `!important` here to be able to override the default hidden behavior on the sphinx rendered scikit-learn.org. See: https://github.com/scikit-learn/scikit-learn/issues/21755 */display: inline-block !important;position: relative;}#sk-container-id-8 div.sk-text-repr-fallback {display: none;}</style><div id=\"sk-container-id-8\" class=\"sk-top-container\"><div class=\"sk-text-repr-fallback\"><pre>BayesSearchCV(cv=5, estimator=DecisionTreeClassifier(random_state=29458),\n",
              "              n_iter=16, n_jobs=-1, random_state=10459,\n",
              "              search_spaces={&#x27;max_depth&#x27;: (3, 17)})</pre><b>In a Jupyter environment, please rerun this cell to show the HTML representation or trust the notebook. <br />On GitHub, the HTML representation is unable to render, please try loading this page with nbviewer.org.</b></div><div class=\"sk-container\" hidden><div class=\"sk-item sk-dashed-wrapped\"><div class=\"sk-label-container\"><div class=\"sk-label sk-toggleable\"><input class=\"sk-toggleable__control sk-hidden--visually\" id=\"sk-estimator-id-23\" type=\"checkbox\" ><label for=\"sk-estimator-id-23\" class=\"sk-toggleable__label sk-toggleable__label-arrow\">BayesSearchCV</label><div class=\"sk-toggleable__content\"><pre>BayesSearchCV(cv=5, estimator=DecisionTreeClassifier(random_state=29458),\n",
              "              n_iter=16, n_jobs=-1, random_state=10459,\n",
              "              search_spaces={&#x27;max_depth&#x27;: (3, 17)})</pre></div></div></div><div class=\"sk-parallel\"><div class=\"sk-parallel-item\"><div class=\"sk-item\"><div class=\"sk-label-container\"><div class=\"sk-label sk-toggleable\"><input class=\"sk-toggleable__control sk-hidden--visually\" id=\"sk-estimator-id-24\" type=\"checkbox\" ><label for=\"sk-estimator-id-24\" class=\"sk-toggleable__label sk-toggleable__label-arrow\">estimator: DecisionTreeClassifier</label><div class=\"sk-toggleable__content\"><pre>DecisionTreeClassifier(random_state=29458)</pre></div></div></div><div class=\"sk-serial\"><div class=\"sk-item\"><div class=\"sk-estimator sk-toggleable\"><input class=\"sk-toggleable__control sk-hidden--visually\" id=\"sk-estimator-id-25\" type=\"checkbox\" ><label for=\"sk-estimator-id-25\" class=\"sk-toggleable__label sk-toggleable__label-arrow\">DecisionTreeClassifier</label><div class=\"sk-toggleable__content\"><pre>DecisionTreeClassifier(random_state=29458)</pre></div></div></div></div></div></div></div></div></div></div>"
            ],
            "text/plain": [
              "BayesSearchCV(cv=5, estimator=DecisionTreeClassifier(random_state=29458),\n",
              "              n_iter=16, n_jobs=-1, random_state=10459,\n",
              "              search_spaces={'max_depth': (3, 17)})"
            ]
          },
          "execution_count": 31,
          "metadata": {},
          "output_type": "execute_result"
        }
      ],
      "source": [
        "dt_auto_depth = BayesSearchCV(\n",
        "    DecisionTreeClassifier(random_state=29458),\n",
        "    {'max_depth': (3, 17)},\n",
        "    cv=5, random_state=10459, n_iter=16, n_jobs=-1\n",
        ")\n",
        "dt_auto_depth.fit(x_train_filled_3, y_train)"
      ]
    },
    {
      "attachments": {},
      "cell_type": "markdown",
      "metadata": {
        "id": "CNjuYQiNaNT8"
      },
      "source": [
        "Evaluate the performance of model 6."
      ]
    },
    {
      "cell_type": "code",
      "execution_count": 32,
      "metadata": {
        "colab": {
          "base_uri": "https://localhost:8080/"
        },
        "id": "_zgK-kowaNT8",
        "outputId": "b9d0fd2e-b416-4615-c9fe-b8b6b495ba0b"
      },
      "outputs": [
        {
          "name": "stdout",
          "output_type": "stream",
          "text": [
            "Training set F1: 0.7390614389792667\n",
            "Testing set F1: 0.5816470465018851\n",
            "Training CM:\n",
            " [[353  33  15   0]\n",
            " [ 52 180  13   0]\n",
            " [ 52  10  69   0]\n",
            " [ 16   5   1   1]]\n",
            "Testing CM:\n",
            " [[79 15  9  0]\n",
            " [21 33 13  0]\n",
            " [12  8  6  0]\n",
            " [ 2  1  1  0]]\n"
          ]
        }
      ],
      "source": [
        "y_train_hat = dt_auto_depth.predict(x_train_filled_3)\n",
        "print('Training set F1:', f1_score(y_train, y_train_hat, average='weighted', labels=[0, 1, 2, 3]))\n",
        "y_test_hat = dt_auto_depth.predict(x_test_filled_3)\n",
        "print('Testing set F1:', f1_score(y_test, y_test_hat, average='weighted', labels=[0, 1, 2, 3]))\n",
        "print('Training CM:\\n', confusion_matrix(y_train, y_train_hat))\n",
        "print('Testing CM:\\n', confusion_matrix(y_test, y_test_hat))"
      ]
    },
    {
      "attachments": {},
      "cell_type": "markdown",
      "metadata": {
        "id": "flMZc0fQwHgH"
      },
      "source": [
        "## 5. Resample\n",
        "\n",
        "In this section, we handle the class imbalance. There are 3 methods: oversampling, undersampling, SMOTE."
      ]
    },
    {
      "attachments": {},
      "cell_type": "markdown",
      "metadata": {
        "id": "gdjlVAhXwi6I"
      },
      "source": [
        "### 5.1. Oversampling\n",
        "\n",
        "This method replicates observations of minor classes to make the size equal to the major class."
      ]
    },
    {
      "cell_type": "code",
      "execution_count": 33,
      "metadata": {
        "colab": {
          "base_uri": "https://localhost:8080/"
        },
        "id": "zu3SRR5Ywv8b",
        "outputId": "72a613a0-d3b2-4e5f-b1e8-99f1c0ace7f6"
      },
      "outputs": [
        {
          "name": "stdout",
          "output_type": "stream",
          "text": [
            "The major class is 0 which has 401 observations.\n"
          ]
        }
      ],
      "source": [
        "uy, cy = np.unique(y_train, return_counts=True)\n",
        "major_class = uy[np.argmax(cy)]\n",
        "idx_major = y_train == major_class\n",
        "n_major_class = np.sum(idx_major)\n",
        "print('The major class is', major_class, 'which has', n_major_class, 'observations.')"
      ]
    },
    {
      "cell_type": "code",
      "execution_count": 34,
      "metadata": {
        "id": "YoU9i03BtzPZ"
      },
      "outputs": [],
      "source": [
        "x_train_by_classes = []\n",
        "rs = np.random.RandomState(seed=8537259)\n",
        "for uy_ in uy:\n",
        "  if uy_ == major_class:\n",
        "    x_train_by_classes.append(x_train[y_train == major_class, :])\n",
        "    continue\n",
        "  idx_boot = rs.choice(np.where(y_train == uy_)[0], size=n_major_class)\n",
        "  x_train_by_classes.append(x_train[idx_boot, :])\n",
        "x_train_by_classes = np.vstack(x_train_by_classes)\n",
        "y_train_by_classes = np.repeat(uy, repeats=n_major_class)\n",
        "p = rs.permutation(y_train_by_classes.shape[0])  # shuffle\n",
        "x_train_over, y_train_over = x_train_by_classes[p], y_train_by_classes[p]"
      ]
    },
    {
      "attachments": {},
      "cell_type": "markdown",
      "metadata": {
        "id": "t5Sumqlj0H7S"
      },
      "source": [
        "Fit a decision tree (**model 7**) to evaluate the performance."
      ]
    },
    {
      "cell_type": "code",
      "execution_count": 35,
      "metadata": {
        "colab": {
          "base_uri": "https://localhost:8080/",
          "height": 206
        },
        "id": "NB7sWi2wzY4V",
        "outputId": "79a6069e-3e7a-4971-baee-1b60044ff635"
      },
      "outputs": [
        {
          "name": "stderr",
          "output_type": "stream",
          "text": [
            "/usr/local/lib/python3.9/dist-packages/skopt/optimizer/optimizer.py:449: UserWarning: The objective has been evaluated at this point before.\n",
            "  warnings.warn(\"The objective has been evaluated \"\n",
            "/usr/local/lib/python3.9/dist-packages/skopt/optimizer/optimizer.py:449: UserWarning: The objective has been evaluated at this point before.\n",
            "  warnings.warn(\"The objective has been evaluated \"\n"
          ]
        },
        {
          "data": {
            "text/html": [
              "<style>#sk-container-id-9 {color: black;background-color: white;}#sk-container-id-9 pre{padding: 0;}#sk-container-id-9 div.sk-toggleable {background-color: white;}#sk-container-id-9 label.sk-toggleable__label {cursor: pointer;display: block;width: 100%;margin-bottom: 0;padding: 0.3em;box-sizing: border-box;text-align: center;}#sk-container-id-9 label.sk-toggleable__label-arrow:before {content: \"▸\";float: left;margin-right: 0.25em;color: #696969;}#sk-container-id-9 label.sk-toggleable__label-arrow:hover:before {color: black;}#sk-container-id-9 div.sk-estimator:hover label.sk-toggleable__label-arrow:before {color: black;}#sk-container-id-9 div.sk-toggleable__content {max-height: 0;max-width: 0;overflow: hidden;text-align: left;background-color: #f0f8ff;}#sk-container-id-9 div.sk-toggleable__content pre {margin: 0.2em;color: black;border-radius: 0.25em;background-color: #f0f8ff;}#sk-container-id-9 input.sk-toggleable__control:checked~div.sk-toggleable__content {max-height: 200px;max-width: 100%;overflow: auto;}#sk-container-id-9 input.sk-toggleable__control:checked~label.sk-toggleable__label-arrow:before {content: \"▾\";}#sk-container-id-9 div.sk-estimator input.sk-toggleable__control:checked~label.sk-toggleable__label {background-color: #d4ebff;}#sk-container-id-9 div.sk-label input.sk-toggleable__control:checked~label.sk-toggleable__label {background-color: #d4ebff;}#sk-container-id-9 input.sk-hidden--visually {border: 0;clip: rect(1px 1px 1px 1px);clip: rect(1px, 1px, 1px, 1px);height: 1px;margin: -1px;overflow: hidden;padding: 0;position: absolute;width: 1px;}#sk-container-id-9 div.sk-estimator {font-family: monospace;background-color: #f0f8ff;border: 1px dotted black;border-radius: 0.25em;box-sizing: border-box;margin-bottom: 0.5em;}#sk-container-id-9 div.sk-estimator:hover {background-color: #d4ebff;}#sk-container-id-9 div.sk-parallel-item::after {content: \"\";width: 100%;border-bottom: 1px solid gray;flex-grow: 1;}#sk-container-id-9 div.sk-label:hover label.sk-toggleable__label {background-color: #d4ebff;}#sk-container-id-9 div.sk-serial::before {content: \"\";position: absolute;border-left: 1px solid gray;box-sizing: border-box;top: 0;bottom: 0;left: 50%;z-index: 0;}#sk-container-id-9 div.sk-serial {display: flex;flex-direction: column;align-items: center;background-color: white;padding-right: 0.2em;padding-left: 0.2em;position: relative;}#sk-container-id-9 div.sk-item {position: relative;z-index: 1;}#sk-container-id-9 div.sk-parallel {display: flex;align-items: stretch;justify-content: center;background-color: white;position: relative;}#sk-container-id-9 div.sk-item::before, #sk-container-id-9 div.sk-parallel-item::before {content: \"\";position: absolute;border-left: 1px solid gray;box-sizing: border-box;top: 0;bottom: 0;left: 50%;z-index: -1;}#sk-container-id-9 div.sk-parallel-item {display: flex;flex-direction: column;z-index: 1;position: relative;background-color: white;}#sk-container-id-9 div.sk-parallel-item:first-child::after {align-self: flex-end;width: 50%;}#sk-container-id-9 div.sk-parallel-item:last-child::after {align-self: flex-start;width: 50%;}#sk-container-id-9 div.sk-parallel-item:only-child::after {width: 0;}#sk-container-id-9 div.sk-dashed-wrapped {border: 1px dashed gray;margin: 0 0.4em 0.5em 0.4em;box-sizing: border-box;padding-bottom: 0.4em;background-color: white;}#sk-container-id-9 div.sk-label label {font-family: monospace;font-weight: bold;display: inline-block;line-height: 1.2em;}#sk-container-id-9 div.sk-label-container {text-align: center;}#sk-container-id-9 div.sk-container {/* jupyter's `normalize.less` sets `[hidden] { display: none; }` but bootstrap.min.css set `[hidden] { display: none !important; }` so we also need the `!important` here to be able to override the default hidden behavior on the sphinx rendered scikit-learn.org. See: https://github.com/scikit-learn/scikit-learn/issues/21755 */display: inline-block !important;position: relative;}#sk-container-id-9 div.sk-text-repr-fallback {display: none;}</style><div id=\"sk-container-id-9\" class=\"sk-top-container\"><div class=\"sk-text-repr-fallback\"><pre>BayesSearchCV(cv=5, estimator=DecisionTreeClassifier(random_state=29458),\n",
              "              n_iter=16, n_jobs=-1, random_state=10459,\n",
              "              search_spaces={&#x27;max_depth&#x27;: (3, 17)})</pre><b>In a Jupyter environment, please rerun this cell to show the HTML representation or trust the notebook. <br />On GitHub, the HTML representation is unable to render, please try loading this page with nbviewer.org.</b></div><div class=\"sk-container\" hidden><div class=\"sk-item sk-dashed-wrapped\"><div class=\"sk-label-container\"><div class=\"sk-label sk-toggleable\"><input class=\"sk-toggleable__control sk-hidden--visually\" id=\"sk-estimator-id-26\" type=\"checkbox\" ><label for=\"sk-estimator-id-26\" class=\"sk-toggleable__label sk-toggleable__label-arrow\">BayesSearchCV</label><div class=\"sk-toggleable__content\"><pre>BayesSearchCV(cv=5, estimator=DecisionTreeClassifier(random_state=29458),\n",
              "              n_iter=16, n_jobs=-1, random_state=10459,\n",
              "              search_spaces={&#x27;max_depth&#x27;: (3, 17)})</pre></div></div></div><div class=\"sk-parallel\"><div class=\"sk-parallel-item\"><div class=\"sk-item\"><div class=\"sk-label-container\"><div class=\"sk-label sk-toggleable\"><input class=\"sk-toggleable__control sk-hidden--visually\" id=\"sk-estimator-id-27\" type=\"checkbox\" ><label for=\"sk-estimator-id-27\" class=\"sk-toggleable__label sk-toggleable__label-arrow\">estimator: DecisionTreeClassifier</label><div class=\"sk-toggleable__content\"><pre>DecisionTreeClassifier(random_state=29458)</pre></div></div></div><div class=\"sk-serial\"><div class=\"sk-item\"><div class=\"sk-estimator sk-toggleable\"><input class=\"sk-toggleable__control sk-hidden--visually\" id=\"sk-estimator-id-28\" type=\"checkbox\" ><label for=\"sk-estimator-id-28\" class=\"sk-toggleable__label sk-toggleable__label-arrow\">DecisionTreeClassifier</label><div class=\"sk-toggleable__content\"><pre>DecisionTreeClassifier(random_state=29458)</pre></div></div></div></div></div></div></div></div></div></div>"
            ],
            "text/plain": [
              "BayesSearchCV(cv=5, estimator=DecisionTreeClassifier(random_state=29458),\n",
              "              n_iter=16, n_jobs=-1, random_state=10459,\n",
              "              search_spaces={'max_depth': (3, 17)})"
            ]
          },
          "execution_count": 35,
          "metadata": {},
          "output_type": "execute_result"
        }
      ],
      "source": [
        "dt_auto_depth = BayesSearchCV(\n",
        "    DecisionTreeClassifier(random_state=29458),\n",
        "    {'max_depth': (3, 17)},\n",
        "    cv=5, random_state=10459, n_iter=16, n_jobs=-1\n",
        ")\n",
        "dt_auto_depth.fit(x_train_over, y_train_over)"
      ]
    },
    {
      "attachments": {},
      "cell_type": "markdown",
      "metadata": {
        "id": "AepBysSv1MK2"
      },
      "source": [
        "We still evaluate the performance on raw dataset for fair."
      ]
    },
    {
      "cell_type": "code",
      "execution_count": 36,
      "metadata": {
        "colab": {
          "base_uri": "https://localhost:8080/"
        },
        "id": "joDA5cBX0Rv8",
        "outputId": "1a3101ae-16ab-48b0-bd97-dafc129e39e8"
      },
      "outputs": [
        {
          "name": "stdout",
          "output_type": "stream",
          "text": [
            "Training set F1: 0.9699094431160441\n",
            "Testing set F1: 0.7364636641253978\n",
            "Training CM:\n",
            " [[395   3   3   0]\n",
            " [ 11 229   4   1]\n",
            " [  0   1 129   1]\n",
            " [  0   0   0  23]]\n",
            "Testing CM:\n",
            " [[85  7  8  3]\n",
            " [17 45  4  1]\n",
            " [ 9  1 16  0]\n",
            " [ 1  1  1  1]]\n"
          ]
        }
      ],
      "source": [
        "y_train_hat = dt_auto_depth.predict(x_train)\n",
        "print('Training set F1:', f1_score(y_train, y_train_hat, average='weighted', labels=[0, 1, 2, 3]))\n",
        "y_test_hat = dt_auto_depth.predict(x_test)\n",
        "print('Testing set F1:', f1_score(y_test, y_test_hat, average='weighted', labels=[0, 1, 2, 3]))\n",
        "print('Training CM:\\n', confusion_matrix(y_train, y_train_hat))\n",
        "print('Testing CM:\\n', confusion_matrix(y_test, y_test_hat))"
      ]
    },
    {
      "attachments": {},
      "cell_type": "markdown",
      "metadata": {
        "id": "ewXBrl5Q1XeM"
      },
      "source": [
        "### 5.2. Undersampling\n",
        "\n",
        "This method draws observations of major classes to make the size equal to the minor class."
      ]
    },
    {
      "cell_type": "code",
      "execution_count": 37,
      "metadata": {
        "colab": {
          "base_uri": "https://localhost:8080/"
        },
        "id": "dpR2MEdJ1f7_",
        "outputId": "5ed3b73d-e521-4646-9ad3-c0b02af6826a"
      },
      "outputs": [
        {
          "name": "stdout",
          "output_type": "stream",
          "text": [
            "The minor class is 3 which has 23 observations.\n"
          ]
        }
      ],
      "source": [
        "uy, cy = np.unique(y_train, return_counts=True)\n",
        "minor_class = uy[np.argmin(cy)]\n",
        "idx_minor = y_train == minor_class\n",
        "n_minor_class = np.sum(idx_minor)\n",
        "print('The minor class is', minor_class, 'which has', n_minor_class, 'observations.')"
      ]
    },
    {
      "cell_type": "code",
      "execution_count": 38,
      "metadata": {
        "id": "hcwJk7Vy1sS-"
      },
      "outputs": [],
      "source": [
        "x_train_by_classes = []\n",
        "rs = np.random.RandomState(seed=8537259)\n",
        "for uy_ in uy:\n",
        "  if uy_ == major_class:\n",
        "    x_train_by_classes.append(x_train[y_train == major_class, :])\n",
        "    continue\n",
        "  idx_boot = rs.choice(np.where(y_train == uy_)[0], size=n_minor_class, replace=False)\n",
        "  x_train_by_classes.append(x_train[idx_boot, :])\n",
        "x_train_by_classes = np.vstack(x_train_by_classes)\n",
        "y_train_by_classes = np.repeat(uy, repeats=n_minor_class)\n",
        "p = rs.permutation(y_train_by_classes.shape[0])  # shuffle\n",
        "x_train_under, y_train_under = x_train_by_classes[p], y_train_by_classes[p]"
      ]
    },
    {
      "attachments": {},
      "cell_type": "markdown",
      "metadata": {
        "id": "LHlNtBUW2Bf1"
      },
      "source": [
        "Fit a decision tree (**model 8**) to evaluate the performance."
      ]
    },
    {
      "cell_type": "code",
      "execution_count": 39,
      "metadata": {
        "colab": {
          "base_uri": "https://localhost:8080/",
          "height": 206
        },
        "id": "raSISSuf16Md",
        "outputId": "0ac1f203-a598-4e73-b70e-79b91368adc7"
      },
      "outputs": [
        {
          "name": "stderr",
          "output_type": "stream",
          "text": [
            "/usr/local/lib/python3.9/dist-packages/skopt/optimizer/optimizer.py:449: UserWarning: The objective has been evaluated at this point before.\n",
            "  warnings.warn(\"The objective has been evaluated \"\n",
            "/usr/local/lib/python3.9/dist-packages/skopt/optimizer/optimizer.py:449: UserWarning: The objective has been evaluated at this point before.\n",
            "  warnings.warn(\"The objective has been evaluated \"\n"
          ]
        },
        {
          "data": {
            "text/html": [
              "<style>#sk-container-id-10 {color: black;background-color: white;}#sk-container-id-10 pre{padding: 0;}#sk-container-id-10 div.sk-toggleable {background-color: white;}#sk-container-id-10 label.sk-toggleable__label {cursor: pointer;display: block;width: 100%;margin-bottom: 0;padding: 0.3em;box-sizing: border-box;text-align: center;}#sk-container-id-10 label.sk-toggleable__label-arrow:before {content: \"▸\";float: left;margin-right: 0.25em;color: #696969;}#sk-container-id-10 label.sk-toggleable__label-arrow:hover:before {color: black;}#sk-container-id-10 div.sk-estimator:hover label.sk-toggleable__label-arrow:before {color: black;}#sk-container-id-10 div.sk-toggleable__content {max-height: 0;max-width: 0;overflow: hidden;text-align: left;background-color: #f0f8ff;}#sk-container-id-10 div.sk-toggleable__content pre {margin: 0.2em;color: black;border-radius: 0.25em;background-color: #f0f8ff;}#sk-container-id-10 input.sk-toggleable__control:checked~div.sk-toggleable__content {max-height: 200px;max-width: 100%;overflow: auto;}#sk-container-id-10 input.sk-toggleable__control:checked~label.sk-toggleable__label-arrow:before {content: \"▾\";}#sk-container-id-10 div.sk-estimator input.sk-toggleable__control:checked~label.sk-toggleable__label {background-color: #d4ebff;}#sk-container-id-10 div.sk-label input.sk-toggleable__control:checked~label.sk-toggleable__label {background-color: #d4ebff;}#sk-container-id-10 input.sk-hidden--visually {border: 0;clip: rect(1px 1px 1px 1px);clip: rect(1px, 1px, 1px, 1px);height: 1px;margin: -1px;overflow: hidden;padding: 0;position: absolute;width: 1px;}#sk-container-id-10 div.sk-estimator {font-family: monospace;background-color: #f0f8ff;border: 1px dotted black;border-radius: 0.25em;box-sizing: border-box;margin-bottom: 0.5em;}#sk-container-id-10 div.sk-estimator:hover {background-color: #d4ebff;}#sk-container-id-10 div.sk-parallel-item::after {content: \"\";width: 100%;border-bottom: 1px solid gray;flex-grow: 1;}#sk-container-id-10 div.sk-label:hover label.sk-toggleable__label {background-color: #d4ebff;}#sk-container-id-10 div.sk-serial::before {content: \"\";position: absolute;border-left: 1px solid gray;box-sizing: border-box;top: 0;bottom: 0;left: 50%;z-index: 0;}#sk-container-id-10 div.sk-serial {display: flex;flex-direction: column;align-items: center;background-color: white;padding-right: 0.2em;padding-left: 0.2em;position: relative;}#sk-container-id-10 div.sk-item {position: relative;z-index: 1;}#sk-container-id-10 div.sk-parallel {display: flex;align-items: stretch;justify-content: center;background-color: white;position: relative;}#sk-container-id-10 div.sk-item::before, #sk-container-id-10 div.sk-parallel-item::before {content: \"\";position: absolute;border-left: 1px solid gray;box-sizing: border-box;top: 0;bottom: 0;left: 50%;z-index: -1;}#sk-container-id-10 div.sk-parallel-item {display: flex;flex-direction: column;z-index: 1;position: relative;background-color: white;}#sk-container-id-10 div.sk-parallel-item:first-child::after {align-self: flex-end;width: 50%;}#sk-container-id-10 div.sk-parallel-item:last-child::after {align-self: flex-start;width: 50%;}#sk-container-id-10 div.sk-parallel-item:only-child::after {width: 0;}#sk-container-id-10 div.sk-dashed-wrapped {border: 1px dashed gray;margin: 0 0.4em 0.5em 0.4em;box-sizing: border-box;padding-bottom: 0.4em;background-color: white;}#sk-container-id-10 div.sk-label label {font-family: monospace;font-weight: bold;display: inline-block;line-height: 1.2em;}#sk-container-id-10 div.sk-label-container {text-align: center;}#sk-container-id-10 div.sk-container {/* jupyter's `normalize.less` sets `[hidden] { display: none; }` but bootstrap.min.css set `[hidden] { display: none !important; }` so we also need the `!important` here to be able to override the default hidden behavior on the sphinx rendered scikit-learn.org. See: https://github.com/scikit-learn/scikit-learn/issues/21755 */display: inline-block !important;position: relative;}#sk-container-id-10 div.sk-text-repr-fallback {display: none;}</style><div id=\"sk-container-id-10\" class=\"sk-top-container\"><div class=\"sk-text-repr-fallback\"><pre>BayesSearchCV(cv=5, estimator=DecisionTreeClassifier(random_state=29458),\n",
              "              n_iter=16, n_jobs=-1, random_state=10459,\n",
              "              search_spaces={&#x27;max_depth&#x27;: (3, 17)})</pre><b>In a Jupyter environment, please rerun this cell to show the HTML representation or trust the notebook. <br />On GitHub, the HTML representation is unable to render, please try loading this page with nbviewer.org.</b></div><div class=\"sk-container\" hidden><div class=\"sk-item sk-dashed-wrapped\"><div class=\"sk-label-container\"><div class=\"sk-label sk-toggleable\"><input class=\"sk-toggleable__control sk-hidden--visually\" id=\"sk-estimator-id-29\" type=\"checkbox\" ><label for=\"sk-estimator-id-29\" class=\"sk-toggleable__label sk-toggleable__label-arrow\">BayesSearchCV</label><div class=\"sk-toggleable__content\"><pre>BayesSearchCV(cv=5, estimator=DecisionTreeClassifier(random_state=29458),\n",
              "              n_iter=16, n_jobs=-1, random_state=10459,\n",
              "              search_spaces={&#x27;max_depth&#x27;: (3, 17)})</pre></div></div></div><div class=\"sk-parallel\"><div class=\"sk-parallel-item\"><div class=\"sk-item\"><div class=\"sk-label-container\"><div class=\"sk-label sk-toggleable\"><input class=\"sk-toggleable__control sk-hidden--visually\" id=\"sk-estimator-id-30\" type=\"checkbox\" ><label for=\"sk-estimator-id-30\" class=\"sk-toggleable__label sk-toggleable__label-arrow\">estimator: DecisionTreeClassifier</label><div class=\"sk-toggleable__content\"><pre>DecisionTreeClassifier(random_state=29458)</pre></div></div></div><div class=\"sk-serial\"><div class=\"sk-item\"><div class=\"sk-estimator sk-toggleable\"><input class=\"sk-toggleable__control sk-hidden--visually\" id=\"sk-estimator-id-31\" type=\"checkbox\" ><label for=\"sk-estimator-id-31\" class=\"sk-toggleable__label sk-toggleable__label-arrow\">DecisionTreeClassifier</label><div class=\"sk-toggleable__content\"><pre>DecisionTreeClassifier(random_state=29458)</pre></div></div></div></div></div></div></div></div></div></div>"
            ],
            "text/plain": [
              "BayesSearchCV(cv=5, estimator=DecisionTreeClassifier(random_state=29458),\n",
              "              n_iter=16, n_jobs=-1, random_state=10459,\n",
              "              search_spaces={'max_depth': (3, 17)})"
            ]
          },
          "execution_count": 39,
          "metadata": {},
          "output_type": "execute_result"
        }
      ],
      "source": [
        "dt_auto_depth = BayesSearchCV(\n",
        "    DecisionTreeClassifier(random_state=29458),\n",
        "    {'max_depth': (3, 17)},\n",
        "    cv=5, random_state=10459, n_iter=16, n_jobs=-1\n",
        ")\n",
        "dt_auto_depth.fit(x_train_under, y_train_under)"
      ]
    },
    {
      "attachments": {},
      "cell_type": "markdown",
      "metadata": {
        "id": "V7PthpuT2HN9"
      },
      "source": [
        "Evaluate the performance."
      ]
    },
    {
      "cell_type": "code",
      "execution_count": 40,
      "metadata": {
        "colab": {
          "base_uri": "https://localhost:8080/"
        },
        "id": "JgpWI9YQ2E_o",
        "outputId": "bcd61805-bf14-474e-b407-b05a1b768582"
      },
      "outputs": [
        {
          "name": "stdout",
          "output_type": "stream",
          "text": [
            "Training set F1: 0.26122069513492474\n",
            "Testing set F1: 0.2373137868420887\n",
            "Training CM:\n",
            " [[ 99 124  85  93]\n",
            " [ 90  47  64  44]\n",
            " [ 15  53  34  29]\n",
            " [  4   5   5   9]]\n",
            "Testing CM:\n",
            " [[26 27 24 26]\n",
            " [25  8 19 15]\n",
            " [ 4 10  6  6]\n",
            " [ 1  0  2  1]]\n"
          ]
        }
      ],
      "source": [
        "y_train_hat = dt_auto_depth.predict(x_train)\n",
        "print('Training set F1:', f1_score(y_train, y_train_hat, average='weighted', labels=[0, 1, 2, 3]))\n",
        "y_test_hat = dt_auto_depth.predict(x_test)\n",
        "print('Testing set F1:', f1_score(y_test, y_test_hat, average='weighted', labels=[0, 1, 2, 3]))\n",
        "print('Training CM:\\n', confusion_matrix(y_train, y_train_hat))\n",
        "print('Testing CM:\\n', confusion_matrix(y_test, y_test_hat))"
      ]
    },
    {
      "attachments": {},
      "cell_type": "markdown",
      "metadata": {
        "id": "wQX5qotP20Rn"
      },
      "source": [
        "### 5.3. SMOTE\n",
        "\n",
        "SMOTE works by selecting examples that are close in the feature space, drawing a line between the examples in the feature space and drawing a new sample at a point along that line.\n",
        "\n",
        "The SMOTE class acts like a data transform object from scikit-learn in that it must be defined and configured, fit on a dataset, then applied to create a new transformed version of the dataset.\n",
        "\n",
        "[Reference](https://machinelearningmastery.com/smote-oversampling-for-imbalanced-classification/) Theories\n",
        "\n",
        "[Reference](https://imbalanced-learn.org/stable/references/generated/imblearn.over_sampling.SMOTE.html) SMOTE documentation\n",
        "\n",
        "By default, the number of nearest neighbors used to define the neighborhood of samples is 5."
      ]
    },
    {
      "cell_type": "code",
      "execution_count": 41,
      "metadata": {
        "id": "0tm1Pq_m2LPz"
      },
      "outputs": [],
      "source": [
        "smote = SMOTE(random_state=2291483, k_neighbors=10)\n",
        "x_train_smote, y_train_smote = smote.fit_resample(x_train, y_train)"
      ]
    },
    {
      "attachments": {},
      "cell_type": "markdown",
      "metadata": {
        "id": "Iwug-hFe38MY"
      },
      "source": [
        "Fit a decision tree (**model 9**) to evaluate the performance."
      ]
    },
    {
      "cell_type": "code",
      "execution_count": 42,
      "metadata": {
        "colab": {
          "base_uri": "https://localhost:8080/",
          "height": 206
        },
        "id": "Jeluzh3U38MY",
        "outputId": "66618e01-57d9-45cf-efbf-010dbcca3798"
      },
      "outputs": [
        {
          "name": "stderr",
          "output_type": "stream",
          "text": [
            "/usr/local/lib/python3.9/dist-packages/skopt/optimizer/optimizer.py:449: UserWarning: The objective has been evaluated at this point before.\n",
            "  warnings.warn(\"The objective has been evaluated \"\n",
            "/usr/local/lib/python3.9/dist-packages/skopt/optimizer/optimizer.py:449: UserWarning: The objective has been evaluated at this point before.\n",
            "  warnings.warn(\"The objective has been evaluated \"\n"
          ]
        },
        {
          "data": {
            "text/html": [
              "<style>#sk-container-id-11 {color: black;background-color: white;}#sk-container-id-11 pre{padding: 0;}#sk-container-id-11 div.sk-toggleable {background-color: white;}#sk-container-id-11 label.sk-toggleable__label {cursor: pointer;display: block;width: 100%;margin-bottom: 0;padding: 0.3em;box-sizing: border-box;text-align: center;}#sk-container-id-11 label.sk-toggleable__label-arrow:before {content: \"▸\";float: left;margin-right: 0.25em;color: #696969;}#sk-container-id-11 label.sk-toggleable__label-arrow:hover:before {color: black;}#sk-container-id-11 div.sk-estimator:hover label.sk-toggleable__label-arrow:before {color: black;}#sk-container-id-11 div.sk-toggleable__content {max-height: 0;max-width: 0;overflow: hidden;text-align: left;background-color: #f0f8ff;}#sk-container-id-11 div.sk-toggleable__content pre {margin: 0.2em;color: black;border-radius: 0.25em;background-color: #f0f8ff;}#sk-container-id-11 input.sk-toggleable__control:checked~div.sk-toggleable__content {max-height: 200px;max-width: 100%;overflow: auto;}#sk-container-id-11 input.sk-toggleable__control:checked~label.sk-toggleable__label-arrow:before {content: \"▾\";}#sk-container-id-11 div.sk-estimator input.sk-toggleable__control:checked~label.sk-toggleable__label {background-color: #d4ebff;}#sk-container-id-11 div.sk-label input.sk-toggleable__control:checked~label.sk-toggleable__label {background-color: #d4ebff;}#sk-container-id-11 input.sk-hidden--visually {border: 0;clip: rect(1px 1px 1px 1px);clip: rect(1px, 1px, 1px, 1px);height: 1px;margin: -1px;overflow: hidden;padding: 0;position: absolute;width: 1px;}#sk-container-id-11 div.sk-estimator {font-family: monospace;background-color: #f0f8ff;border: 1px dotted black;border-radius: 0.25em;box-sizing: border-box;margin-bottom: 0.5em;}#sk-container-id-11 div.sk-estimator:hover {background-color: #d4ebff;}#sk-container-id-11 div.sk-parallel-item::after {content: \"\";width: 100%;border-bottom: 1px solid gray;flex-grow: 1;}#sk-container-id-11 div.sk-label:hover label.sk-toggleable__label {background-color: #d4ebff;}#sk-container-id-11 div.sk-serial::before {content: \"\";position: absolute;border-left: 1px solid gray;box-sizing: border-box;top: 0;bottom: 0;left: 50%;z-index: 0;}#sk-container-id-11 div.sk-serial {display: flex;flex-direction: column;align-items: center;background-color: white;padding-right: 0.2em;padding-left: 0.2em;position: relative;}#sk-container-id-11 div.sk-item {position: relative;z-index: 1;}#sk-container-id-11 div.sk-parallel {display: flex;align-items: stretch;justify-content: center;background-color: white;position: relative;}#sk-container-id-11 div.sk-item::before, #sk-container-id-11 div.sk-parallel-item::before {content: \"\";position: absolute;border-left: 1px solid gray;box-sizing: border-box;top: 0;bottom: 0;left: 50%;z-index: -1;}#sk-container-id-11 div.sk-parallel-item {display: flex;flex-direction: column;z-index: 1;position: relative;background-color: white;}#sk-container-id-11 div.sk-parallel-item:first-child::after {align-self: flex-end;width: 50%;}#sk-container-id-11 div.sk-parallel-item:last-child::after {align-self: flex-start;width: 50%;}#sk-container-id-11 div.sk-parallel-item:only-child::after {width: 0;}#sk-container-id-11 div.sk-dashed-wrapped {border: 1px dashed gray;margin: 0 0.4em 0.5em 0.4em;box-sizing: border-box;padding-bottom: 0.4em;background-color: white;}#sk-container-id-11 div.sk-label label {font-family: monospace;font-weight: bold;display: inline-block;line-height: 1.2em;}#sk-container-id-11 div.sk-label-container {text-align: center;}#sk-container-id-11 div.sk-container {/* jupyter's `normalize.less` sets `[hidden] { display: none; }` but bootstrap.min.css set `[hidden] { display: none !important; }` so we also need the `!important` here to be able to override the default hidden behavior on the sphinx rendered scikit-learn.org. See: https://github.com/scikit-learn/scikit-learn/issues/21755 */display: inline-block !important;position: relative;}#sk-container-id-11 div.sk-text-repr-fallback {display: none;}</style><div id=\"sk-container-id-11\" class=\"sk-top-container\"><div class=\"sk-text-repr-fallback\"><pre>BayesSearchCV(cv=5, estimator=DecisionTreeClassifier(random_state=29458),\n",
              "              n_iter=16, n_jobs=-1, random_state=10459,\n",
              "              search_spaces={&#x27;max_depth&#x27;: (3, 17)})</pre><b>In a Jupyter environment, please rerun this cell to show the HTML representation or trust the notebook. <br />On GitHub, the HTML representation is unable to render, please try loading this page with nbviewer.org.</b></div><div class=\"sk-container\" hidden><div class=\"sk-item sk-dashed-wrapped\"><div class=\"sk-label-container\"><div class=\"sk-label sk-toggleable\"><input class=\"sk-toggleable__control sk-hidden--visually\" id=\"sk-estimator-id-32\" type=\"checkbox\" ><label for=\"sk-estimator-id-32\" class=\"sk-toggleable__label sk-toggleable__label-arrow\">BayesSearchCV</label><div class=\"sk-toggleable__content\"><pre>BayesSearchCV(cv=5, estimator=DecisionTreeClassifier(random_state=29458),\n",
              "              n_iter=16, n_jobs=-1, random_state=10459,\n",
              "              search_spaces={&#x27;max_depth&#x27;: (3, 17)})</pre></div></div></div><div class=\"sk-parallel\"><div class=\"sk-parallel-item\"><div class=\"sk-item\"><div class=\"sk-label-container\"><div class=\"sk-label sk-toggleable\"><input class=\"sk-toggleable__control sk-hidden--visually\" id=\"sk-estimator-id-33\" type=\"checkbox\" ><label for=\"sk-estimator-id-33\" class=\"sk-toggleable__label sk-toggleable__label-arrow\">estimator: DecisionTreeClassifier</label><div class=\"sk-toggleable__content\"><pre>DecisionTreeClassifier(random_state=29458)</pre></div></div></div><div class=\"sk-serial\"><div class=\"sk-item\"><div class=\"sk-estimator sk-toggleable\"><input class=\"sk-toggleable__control sk-hidden--visually\" id=\"sk-estimator-id-34\" type=\"checkbox\" ><label for=\"sk-estimator-id-34\" class=\"sk-toggleable__label sk-toggleable__label-arrow\">DecisionTreeClassifier</label><div class=\"sk-toggleable__content\"><pre>DecisionTreeClassifier(random_state=29458)</pre></div></div></div></div></div></div></div></div></div></div>"
            ],
            "text/plain": [
              "BayesSearchCV(cv=5, estimator=DecisionTreeClassifier(random_state=29458),\n",
              "              n_iter=16, n_jobs=-1, random_state=10459,\n",
              "              search_spaces={'max_depth': (3, 17)})"
            ]
          },
          "execution_count": 42,
          "metadata": {},
          "output_type": "execute_result"
        }
      ],
      "source": [
        "dt_auto_depth = BayesSearchCV(\n",
        "    DecisionTreeClassifier(random_state=29458),\n",
        "    {'max_depth': (3, 17)},\n",
        "    cv=5, random_state=10459, n_iter=16, n_jobs=-1\n",
        ")\n",
        "dt_auto_depth.fit(x_train_smote, y_train_smote)"
      ]
    },
    {
      "attachments": {},
      "cell_type": "markdown",
      "metadata": {
        "id": "EJpss4nC38MY"
      },
      "source": [
        "Evaluate the performance."
      ]
    },
    {
      "cell_type": "code",
      "execution_count": 43,
      "metadata": {
        "colab": {
          "base_uri": "https://localhost:8080/"
        },
        "id": "_oS67G6J38MY",
        "outputId": "09694001-14e4-41c4-9c5f-bcb0ec2e7596"
      },
      "outputs": [
        {
          "name": "stdout",
          "output_type": "stream",
          "text": [
            "Training set F1: 0.9962605513473762\n",
            "Testing set F1: 0.6979244233126322\n",
            "Training CM:\n",
            " [[400   0   1   0]\n",
            " [  1 243   0   1]\n",
            " [  0   0 131   0]\n",
            " [  0   0   0  23]]\n",
            "Testing CM:\n",
            " [[76 12 10  5]\n",
            " [ 9 43  8  7]\n",
            " [ 5  5 16  0]\n",
            " [ 3  0  0  1]]\n"
          ]
        }
      ],
      "source": [
        "y_train_hat = dt_auto_depth.predict(x_train)\n",
        "print('Training set F1:', f1_score(y_train, y_train_hat, average='weighted', labels=[0, 1, 2, 3]))\n",
        "y_test_hat = dt_auto_depth.predict(x_test)\n",
        "print('Testing set F1:', f1_score(y_test, y_test_hat, average='weighted', labels=[0, 1, 2, 3]))\n",
        "print('Training CM:\\n', confusion_matrix(y_train, y_train_hat))\n",
        "print('Testing CM:\\n', confusion_matrix(y_test, y_test_hat))"
      ]
    },
    {
      "attachments": {},
      "cell_type": "markdown",
      "metadata": {
        "id": "7xs-rVeI4moO"
      },
      "source": [
        "It improves the performance and enables us to search for the best `k_neighbours`."
      ]
    },
    {
      "attachments": {},
      "cell_type": "markdown",
      "metadata": {
        "id": "OLtL9S144Cpt"
      },
      "source": [
        "## 6. PCA\n",
        "\n",
        "Some features are redundent or correlated, thus we can re-structure the features to improve the performance."
      ]
    },
    {
      "cell_type": "code",
      "execution_count": null,
      "metadata": {
        "id": "8pdnEjTb32mp"
      },
      "outputs": [],
      "source": [
        "pca = PCA(random_state=374564)\n",
        "x_train_pca = pca.fit_transform(x_train)\n",
        "x_test_pca = pca.transform(x_test)"
      ]
    },
    {
      "attachments": {},
      "cell_type": "markdown",
      "metadata": {
        "id": "alI6CRxf75KN"
      },
      "source": [
        "Calculate the ratio of variance explained by each component."
      ]
    },
    {
      "cell_type": "code",
      "execution_count": 45,
      "metadata": {
        "colab": {
          "base_uri": "https://localhost:8080/",
          "height": 388
        },
        "id": "TWrjAPcO6hLq",
        "outputId": "c09f32cc-d256-419f-8e6e-313f6104d278"
      },
      "outputs": [
        {
          "data": {
            "image/png": "[encoded data removed]",
            "text/plain": [
              "<Figure size 600x400 with 1 Axes>"
            ]
          },
          "metadata": {},
          "output_type": "display_data"
        }
      ],
      "source": [
        "fig, ax = plt.subplots(figsize=(6, 4))\n",
        "ax.plot(pca.explained_variance_ratio_, c='k')\n",
        "ax.set_xticks(np.arange(pca.n_components_))\n",
        "ax.set_xlabel('Component index')\n",
        "ax.set_ylabel('Ratio of variance')\n",
        "plt.show()\n",
        "plt.close(fig)"
      ]
    },
    {
      "attachments": {},
      "cell_type": "markdown",
      "metadata": {
        "id": "wvxdd15v5kCD"
      },
      "source": [
        "Visualize the first 3 dimensions of **the original** training set."
      ]
    },
    {
      "cell_type": "code",
      "execution_count": 46,
      "metadata": {
        "colab": {
          "base_uri": "https://localhost:8080/",
          "height": 505
        },
        "id": "l84p2qni5lqF",
        "outputId": "b2be6bb0-ae9d-40d6-c1b0-d5ddea9d4ba0"
      },
      "outputs": [
        {
          "data": {
            "image/png": "[encoded data removed]",
            "text/plain": [
              "<Figure size 600x600 with 1 Axes>"
            ]
          },
          "metadata": {},
          "output_type": "display_data"
        }
      ],
      "source": [
        "fig, ax = plt.subplots(figsize=(6, 6), subplot_kw={\"projection\": \"3d\"})\n",
        "ax.scatter(x_train[:, 0], x_train[:, 1], x_train[:, 2], c='k', s=10)\n",
        "ax.set_xlabel('1st dimension')\n",
        "ax.set_ylabel('2nd dimension')\n",
        "ax.set_zlabel('3rd dimension')\n",
        "ax.set_xlim((-400, 400))\n",
        "ax.set_ylim((-400, 400))\n",
        "ax.set_zlim((-400, 400))\n",
        "plt.show()\n",
        "plt.close(fig)"
      ]
    },
    {
      "attachments": {},
      "cell_type": "markdown",
      "metadata": {
        "id": "l2TMQ5Om6Eg9"
      },
      "source": [
        "Visualize the first 3 dimensions of **PCA transformed** training set.\n",
        "\n",
        "Notice the difference on axis scales."
      ]
    },
    {
      "cell_type": "code",
      "execution_count": 47,
      "metadata": {
        "colab": {
          "base_uri": "https://localhost:8080/",
          "height": 505
        },
        "id": "H4eZFzMg6GSm",
        "outputId": "3b55ab41-2cfa-4da8-bd5c-c36ebb42d0b2"
      },
      "outputs": [
        {
          "data": {
            "image/png": "[encoded data removed]",
            "text/plain": [
              "<Figure size 600x600 with 1 Axes>"
            ]
          },
          "metadata": {},
          "output_type": "display_data"
        }
      ],
      "source": [
        "fig, ax = plt.subplots(figsize=(6, 6), subplot_kw={\"projection\": \"3d\"})\n",
        "ax.scatter(x_train_pca[:, 0], x_train_pca[:, 1], x_train_pca[:, 2], c='k', s=10)\n",
        "ax.set_xlabel('1st important dimension')\n",
        "ax.set_ylabel('2nd important dimension')\n",
        "ax.set_zlabel('3rd important dimension')\n",
        "ax.set_xlim((-2000, 2000))\n",
        "ax.set_ylim((-2000, 2000))\n",
        "ax.set_zlim((-2000, 2000))\n",
        "plt.show()\n",
        "plt.close(fig)"
      ]
    },
    {
      "attachments": {},
      "cell_type": "markdown",
      "metadata": {
        "id": "1rXkEFDo8MBu"
      },
      "source": [
        "Based on the explained variance ratio, we could use the first 2 component and fit a decision tree model (**model 10**)."
      ]
    },
    {
      "cell_type": "code",
      "execution_count": 48,
      "metadata": {
        "colab": {
          "base_uri": "https://localhost:8080/",
          "height": 206
        },
        "id": "E6vYFhWa8Rw0",
        "outputId": "46a628da-a576-4530-e8d6-fb70bfbb53e4"
      },
      "outputs": [
        {
          "name": "stderr",
          "output_type": "stream",
          "text": [
            "/usr/local/lib/python3.9/dist-packages/skopt/optimizer/optimizer.py:449: UserWarning: The objective has been evaluated at this point before.\n",
            "  warnings.warn(\"The objective has been evaluated \"\n",
            "/usr/local/lib/python3.9/dist-packages/skopt/optimizer/optimizer.py:449: UserWarning: The objective has been evaluated at this point before.\n",
            "  warnings.warn(\"The objective has been evaluated \"\n"
          ]
        },
        {
          "data": {
            "text/html": [
              "<style>#sk-container-id-12 {color: black;background-color: white;}#sk-container-id-12 pre{padding: 0;}#sk-container-id-12 div.sk-toggleable {background-color: white;}#sk-container-id-12 label.sk-toggleable__label {cursor: pointer;display: block;width: 100%;margin-bottom: 0;padding: 0.3em;box-sizing: border-box;text-align: center;}#sk-container-id-12 label.sk-toggleable__label-arrow:before {content: \"▸\";float: left;margin-right: 0.25em;color: #696969;}#sk-container-id-12 label.sk-toggleable__label-arrow:hover:before {color: black;}#sk-container-id-12 div.sk-estimator:hover label.sk-toggleable__label-arrow:before {color: black;}#sk-container-id-12 div.sk-toggleable__content {max-height: 0;max-width: 0;overflow: hidden;text-align: left;background-color: #f0f8ff;}#sk-container-id-12 div.sk-toggleable__content pre {margin: 0.2em;color: black;border-radius: 0.25em;background-color: #f0f8ff;}#sk-container-id-12 input.sk-toggleable__control:checked~div.sk-toggleable__content {max-height: 200px;max-width: 100%;overflow: auto;}#sk-container-id-12 input.sk-toggleable__control:checked~label.sk-toggleable__label-arrow:before {content: \"▾\";}#sk-container-id-12 div.sk-estimator input.sk-toggleable__control:checked~label.sk-toggleable__label {background-color: #d4ebff;}#sk-container-id-12 div.sk-label input.sk-toggleable__control:checked~label.sk-toggleable__label {background-color: #d4ebff;}#sk-container-id-12 input.sk-hidden--visually {border: 0;clip: rect(1px 1px 1px 1px);clip: rect(1px, 1px, 1px, 1px);height: 1px;margin: -1px;overflow: hidden;padding: 0;position: absolute;width: 1px;}#sk-container-id-12 div.sk-estimator {font-family: monospace;background-color: #f0f8ff;border: 1px dotted black;border-radius: 0.25em;box-sizing: border-box;margin-bottom: 0.5em;}#sk-container-id-12 div.sk-estimator:hover {background-color: #d4ebff;}#sk-container-id-12 div.sk-parallel-item::after {content: \"\";width: 100%;border-bottom: 1px solid gray;flex-grow: 1;}#sk-container-id-12 div.sk-label:hover label.sk-toggleable__label {background-color: #d4ebff;}#sk-container-id-12 div.sk-serial::before {content: \"\";position: absolute;border-left: 1px solid gray;box-sizing: border-box;top: 0;bottom: 0;left: 50%;z-index: 0;}#sk-container-id-12 div.sk-serial {display: flex;flex-direction: column;align-items: center;background-color: white;padding-right: 0.2em;padding-left: 0.2em;position: relative;}#sk-container-id-12 div.sk-item {position: relative;z-index: 1;}#sk-container-id-12 div.sk-parallel {display: flex;align-items: stretch;justify-content: center;background-color: white;position: relative;}#sk-container-id-12 div.sk-item::before, #sk-container-id-12 div.sk-parallel-item::before {content: \"\";position: absolute;border-left: 1px solid gray;box-sizing: border-box;top: 0;bottom: 0;left: 50%;z-index: -1;}#sk-container-id-12 div.sk-parallel-item {display: flex;flex-direction: column;z-index: 1;position: relative;background-color: white;}#sk-container-id-12 div.sk-parallel-item:first-child::after {align-self: flex-end;width: 50%;}#sk-container-id-12 div.sk-parallel-item:last-child::after {align-self: flex-start;width: 50%;}#sk-container-id-12 div.sk-parallel-item:only-child::after {width: 0;}#sk-container-id-12 div.sk-dashed-wrapped {border: 1px dashed gray;margin: 0 0.4em 0.5em 0.4em;box-sizing: border-box;padding-bottom: 0.4em;background-color: white;}#sk-container-id-12 div.sk-label label {font-family: monospace;font-weight: bold;display: inline-block;line-height: 1.2em;}#sk-container-id-12 div.sk-label-container {text-align: center;}#sk-container-id-12 div.sk-container {/* jupyter's `normalize.less` sets `[hidden] { display: none; }` but bootstrap.min.css set `[hidden] { display: none !important; }` so we also need the `!important` here to be able to override the default hidden behavior on the sphinx rendered scikit-learn.org. See: https://github.com/scikit-learn/scikit-learn/issues/21755 */display: inline-block !important;position: relative;}#sk-container-id-12 div.sk-text-repr-fallback {display: none;}</style><div id=\"sk-container-id-12\" class=\"sk-top-container\"><div class=\"sk-text-repr-fallback\"><pre>BayesSearchCV(cv=5, estimator=DecisionTreeClassifier(random_state=29458),\n",
              "              n_iter=16, n_jobs=-1, random_state=10459,\n",
              "              search_spaces={&#x27;max_depth&#x27;: (3, 17)})</pre><b>In a Jupyter environment, please rerun this cell to show the HTML representation or trust the notebook. <br />On GitHub, the HTML representation is unable to render, please try loading this page with nbviewer.org.</b></div><div class=\"sk-container\" hidden><div class=\"sk-item sk-dashed-wrapped\"><div class=\"sk-label-container\"><div class=\"sk-label sk-toggleable\"><input class=\"sk-toggleable__control sk-hidden--visually\" id=\"sk-estimator-id-35\" type=\"checkbox\" ><label for=\"sk-estimator-id-35\" class=\"sk-toggleable__label sk-toggleable__label-arrow\">BayesSearchCV</label><div class=\"sk-toggleable__content\"><pre>BayesSearchCV(cv=5, estimator=DecisionTreeClassifier(random_state=29458),\n",
              "              n_iter=16, n_jobs=-1, random_state=10459,\n",
              "              search_spaces={&#x27;max_depth&#x27;: (3, 17)})</pre></div></div></div><div class=\"sk-parallel\"><div class=\"sk-parallel-item\"><div class=\"sk-item\"><div class=\"sk-label-container\"><div class=\"sk-label sk-toggleable\"><input class=\"sk-toggleable__control sk-hidden--visually\" id=\"sk-estimator-id-36\" type=\"checkbox\" ><label for=\"sk-estimator-id-36\" class=\"sk-toggleable__label sk-toggleable__label-arrow\">estimator: DecisionTreeClassifier</label><div class=\"sk-toggleable__content\"><pre>DecisionTreeClassifier(random_state=29458)</pre></div></div></div><div class=\"sk-serial\"><div class=\"sk-item\"><div class=\"sk-estimator sk-toggleable\"><input class=\"sk-toggleable__control sk-hidden--visually\" id=\"sk-estimator-id-37\" type=\"checkbox\" ><label for=\"sk-estimator-id-37\" class=\"sk-toggleable__label sk-toggleable__label-arrow\">DecisionTreeClassifier</label><div class=\"sk-toggleable__content\"><pre>DecisionTreeClassifier(random_state=29458)</pre></div></div></div></div></div></div></div></div></div></div>"
            ],
            "text/plain": [
              "BayesSearchCV(cv=5, estimator=DecisionTreeClassifier(random_state=29458),\n",
              "              n_iter=16, n_jobs=-1, random_state=10459,\n",
              "              search_spaces={'max_depth': (3, 17)})"
            ]
          },
          "execution_count": 48,
          "metadata": {},
          "output_type": "execute_result"
        }
      ],
      "source": [
        "dt_auto_depth = BayesSearchCV(\n",
        "    DecisionTreeClassifier(random_state=29458),\n",
        "    {'max_depth': (3, 17)},\n",
        "    cv=5, random_state=10459, n_iter=16, n_jobs=-1\n",
        ")\n",
        "dt_auto_depth.fit(x_train_pca[:, :2], y_train)"
      ]
    },
    {
      "cell_type": "code",
      "execution_count": 49,
      "metadata": {
        "colab": {
          "base_uri": "https://localhost:8080/"
        },
        "id": "dAflQr9B7Y8r",
        "outputId": "aa6bbae8-7df6-4eef-fb9e-296156e7322f"
      },
      "outputs": [
        {
          "name": "stdout",
          "output_type": "stream",
          "text": [
            "Training set F1: 0.4943959083275144\n",
            "Testing set F1: 0.5124842154049543\n",
            "Training CM:\n",
            " [[388  13   0   0]\n",
            " [173  70   2   0]\n",
            " [105  20   6   0]\n",
            " [ 21   1   1   0]]\n",
            "Testing CM:\n",
            " [[97  4  2  0]\n",
            " [46 19  2  0]\n",
            " [21  4  1  0]\n",
            " [ 4  0  0  0]]\n"
          ]
        }
      ],
      "source": [
        "y_train_hat = dt_auto_depth.predict(x_train_pca[:, :2])\n",
        "print('Training set F1:', f1_score(y_train, y_train_hat, average='weighted', labels=[0, 1, 2, 3]))\n",
        "y_test_hat = dt_auto_depth.predict(x_test_pca[:, :2])\n",
        "print('Testing set F1:', f1_score(y_test, y_test_hat, average='weighted', labels=[0, 1, 2, 3]))\n",
        "print('Training CM:\\n', confusion_matrix(y_train, y_train_hat))\n",
        "print('Testing CM:\\n', confusion_matrix(y_test, y_test_hat))"
      ]
    },
    {
      "attachments": {},
      "cell_type": "markdown",
      "metadata": {
        "id": "zjqx6G1J9Vsx"
      },
      "source": [
        "Notice we reduce 90% dataset but still achieves 0.51 F1 score."
      ]
    },
    {
      "attachments": {},
      "cell_type": "markdown",
      "metadata": {
        "id": "18n6yJDP_KwL"
      },
      "source": [
        "## 7. Relief\n",
        "\n",
        "Follow the slide 14 of data pre-processing 3. This algorithm is used to calculate the weights of features and help feature selection.\n",
        "\n",
        "[KDTree](https://scikit-learn.org/stable/modules/generated/sklearn.neighbors.KDTree.html#sklearn.neighbors.KDTree)\n",
        "\n",
        "[Distance metrics](https://scikit-learn.org/stable/modules/generated/sklearn.metrics.pairwise.distance_metrics.html#sklearn.metrics.pairwise.distance_metrics)"
      ]
    },
    {
      "cell_type": "code",
      "execution_count": 50,
      "metadata": {
        "id": "fpxTVupA9CdW"
      },
      "outputs": [],
      "source": [
        "def relief(x, y, r):\n",
        "  \"\"\"\n",
        "  r: The ratio of random selected observations\n",
        "  \"\"\"\n",
        "  knn_hit = dict()  # calc distance matrix for each class\n",
        "  knn_miss = dict()\n",
        "  knn_template = NearestNeighbors(\n",
        "      metric='minkowski', p=1,  # Manhattan distance\n",
        "      n_jobs=-1,\n",
        "      n_neighbors=2,  # the first returned value is itself\n",
        "  )\n",
        "  for uy in np.unique(y):\n",
        "    x_hit, x_miss = x[y == uy], x[y != uy]\n",
        "    knn_hit[uy] = deepcopy(knn_template)\n",
        "    knn_hit[uy].fit(x_hit)\n",
        "    knn_miss[uy] = deepcopy(knn_template)\n",
        "    knn_miss[uy].fit(x_miss)\n",
        "\n",
        "  rs = np.random.RandomState(seed=54382)  # get randomly selected instances R\n",
        "  n_r = int(y.shape[0] * r)\n",
        "  if n_r > y.shape[0]:  # compatible to bootstrap\n",
        "    r = rs.choice(y.shape[0], size=n_r, replace=True)\n",
        "  else:\n",
        "    r = rs.choice(y.shape[0], size=n_r, replace=False)\n",
        "\n",
        "  # use np.nan to address mistakes of assigning values\n",
        "  # expect all values are filled after finishing\n",
        "  h = np.full(shape=n_r, fill_value=np.nan, dtype=int)\n",
        "  m = np.full(shape=n_r, fill_value=np.nan, dtype=int)\n",
        "  for ul in np.unique(y[r]):\n",
        "    i = y[r] == ul  # the relative index in the drawn instances R\n",
        "    h[i] = knn_hit[ul].kneighbors(x[r[i]], return_distance=False)[:, 1]\n",
        "    m[i] = knn_miss[ul].kneighbors(x[r[i]], return_distance=False)[:, 1]\n",
        "\n",
        "  w = np.square(x[r] - x[m]) - np.square(x[h] - x[m])  # calc weights\n",
        "  w = np.sum(w, axis=0) / n_r\n",
        "  return w"
      ]
    },
    {
      "attachments": {},
      "cell_type": "markdown",
      "metadata": {
        "id": "UqYaWxJR30q1"
      },
      "source": [
        "Use the dataset as an example to calculate feature weights. Notice the range of y-axis are different."
      ]
    },
    {
      "cell_type": "code",
      "execution_count": 51,
      "metadata": {
        "colab": {
          "base_uri": "https://localhost:8080/",
          "height": 468
        },
        "id": "o7m7O9RvAo3K",
        "outputId": "62a29fe6-3a05-4707-fca4-663097807cc1"
      },
      "outputs": [
        {
          "data": {
            "image/png": "[encoded data removed]",
            "text/plain": [
              "<Figure size 1200x500 with 2 Axes>"
            ]
          },
          "metadata": {},
          "output_type": "display_data"
        }
      ],
      "source": [
        "feature_names = np.arange(x_train.shape[1])\n",
        "fig, axes = plt.subplots(figsize=(12, 5), ncols=2)\n",
        "axes[0].bar(x=feature_names, height=relief(x_train_std, y_train, 0.1))\n",
        "axes[0].set_xticks(feature_names)\n",
        "axes[0].set_title(\"Z-score\")\n",
        "axes[1].bar(x=feature_names, height=relief(x_train_zip, y_train, 0.1))\n",
        "axes[1].set_xticks(feature_names)\n",
        "axes[1].set_title(\"Min-Max\")\n",
        "plt.show()\n",
        "plt.close(fig)"
      ]
    },
    {
      "attachments": {},
      "cell_type": "markdown",
      "metadata": {
        "id": "x-F-aiWl5dyo"
      },
      "source": [
        "Refering results.\n",
        "\n",
        "|                              | Training | Testing | Memo                                                         |\n",
        "| ---------------------------- | -------- | ------- | ------------------------------------------------------------ |\n",
        "| **Normalization**            |          |         |                                                              |\n",
        "| Baseline SVC                 | 0.33     | 0.35    |                                                              |\n",
        "| Normalization:  Z-score      | 0.98     | 0.94    |                                                              |\n",
        "| Normalization:  Min-Max      | 0.96     | 0.93    |                                                              |\n",
        "| **Binning**                  |          |         |                                                              |\n",
        "| Baseline DT                  | 0.90     | 0.77    |                                                              |\n",
        "| Binning                      | 0.90     | 0.77    |                                                              |\n",
        "| **Fill missing  values\\***   |          |         | Baseline  not available, because `scikit-learn` decision tree doesn't support missing  values. |\n",
        "| Fill missing:  overall mean  | 0.71     | 0.55    |                                                              |\n",
        "| Fill missing:  in-class mean | 0.98     | 0.59\\*   | Testing  set cannot apply the same pre-processing, and fallback to overall mean. |\n",
        "| Fill missing:  new class     | 0.74     | 0.58    |                                                              |\n",
        "| **Resample**                 |          |         |                                                              |\n",
        "| Baseline DT                  | 0.90     | 0.77    |                                                              |\n",
        "| Resample:  oversampling      | 0.97     | 0.74    |                                                              |\n",
        "| Resample:  undersampling     | 0.26     | 0.24    |                                                              |\n",
        "| Resample:  SMOTE             | 1.00     | 0.70    |                                                              |\n",
        "| **PCA**                      |          |         |                                                              |\n",
        "| Baseline DT                  | 0.90     | 0.77    |                                                              |\n",
        "| 10%  Information DT          | 0.49     | 0.51    |                                                              |\n",
        "\n",
        "*If you find any mistakes in these algorithms, please email the tutor.*"
      ]
    },
    {
      "cell_type": "code",
      "execution_count": null,
      "metadata": {
        "id": "KmLhGmQbhZ_m"
      },
      "outputs": [],
      "source": []
    }
  ],
  "metadata": {
    "colab": {
      "provenance": [],
      "toc_visible": true
    },
    "kernelspec": {
      "display_name": "Python 3",
      "name": "python3"
    },
    "language_info": {
      "codemirror_mode": {
        "name": "ipython",
        "version": 3
      },
      "file_extension": ".py",
      "mimetype": "text/x-python",
      "name": "python",
      "nbconvert_exporter": "python",
      "pygments_lexer": "ipython3",
      "version": "3.10.6"
    }
  },
  "nbformat": 4,
  "nbformat_minor": 0
}
